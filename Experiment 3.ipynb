{
 "cells": [
  {
   "cell_type": "markdown",
   "id": "5abae504",
   "metadata": {},
   "source": [
    "# Experiment 3"
   ]
  },
  {
   "cell_type": "markdown",
   "id": "e8286ed8",
   "metadata": {},
   "source": [
    "## Question 1"
   ]
  },
  {
   "cell_type": "code",
   "execution_count": 1,
   "id": "436cf75e",
   "metadata": {},
   "outputs": [
    {
     "name": "stdout",
     "output_type": "stream",
     "text": [
      "The number is odd\n"
     ]
    }
   ],
   "source": [
    "\"\"\" Even / Odd Checker \"\"\"\n",
    "\n",
    "x = 5\n",
    "\n",
    "if x % 2 == 0:\n",
    "    print(\"The number is even\")\n",
    "else:\n",
    "    print(\"The number is odd\")"
   ]
  },
  {
   "cell_type": "markdown",
   "id": "bee65d87",
   "metadata": {},
   "source": [
    "## Question 2"
   ]
  },
  {
   "cell_type": "code",
   "execution_count": 2,
   "id": "c6240ac3",
   "metadata": {},
   "outputs": [
    {
     "name": "stdout",
     "output_type": "stream",
     "text": [
      "Enter Marks:19\n",
      "The Grade is A\n"
     ]
    }
   ],
   "source": [
    "\"\"\" Grades students according to their marks \"\"\"\n",
    "\n",
    "if x > 15:\n",
    "    print(\"The Grade is A\")\n",
    "elif x <= 15 and x > 10:\n",
    "    print(\"The Grade is B\")\n",
    "elif x <= 10 and x > 5:\n",
    "    print(\"The Grade is C\")\n",
    "else:\n",
    "    print(\"The Grade is F\")"
   ]
  },
  {
   "cell_type": "markdown",
   "id": "6abdccd8",
   "metadata": {},
   "source": [
    "## Question 3"
   ]
  },
  {
   "cell_type": "code",
   "execution_count": 3,
   "id": "a425b184",
   "metadata": {},
   "outputs": [
    {
     "name": "stdout",
     "output_type": "stream",
     "text": [
      "Enter a number:-18\n",
      "The absolute of -18.0 is 18.0\n"
     ]
    }
   ],
   "source": [
    "\"\"\" Finds Absolute Value of a number \"\"\"\n",
    "\n",
    "# x = float(input(\"Enter a number:\"))\n",
    "# print(\"The absolute of\", x, \"is\", abs(x))\n",
    "\n",
    "# User inputs a number\n",
    "x = float(input(\"Enter a number:\"))\n",
    "abs_x = x\n",
    "\n",
    "if x < 0:\n",
    "    abs_x = -x\n",
    "    \n",
    "print(\"The absolute of\", x, \"is\", abs_x)"
   ]
  },
  {
   "cell_type": "markdown",
   "id": "0344599d",
   "metadata": {},
   "source": [
    "## Question 4"
   ]
  },
  {
   "cell_type": "code",
   "execution_count": 4,
   "id": "9a1e42fc",
   "metadata": {},
   "outputs": [
    {
     "name": "stdout",
     "output_type": "stream",
     "text": [
      "Enter coefficient 'a' :1\n",
      "\n",
      "Enter coefficient 'b' :9\n",
      "\n",
      "Enter coefficient 'c' :9\n",
      "\n",
      "The number of roots are 2\n",
      "\n",
      "The roots are -1.1458980337503153 and -7.854101966249685\n"
     ]
    }
   ],
   "source": [
    "\"\"\" Determines the number and Values of roots \"\"\"\n",
    "\n",
    "# User inputs values\n",
    "a = float(input(\"Enter coefficient 'a' :\")) # Coefficient of x square\n",
    "b = float(input(\"\\nEnter coefficient 'b' :\")) # Coefficient of x\n",
    "c = float(input(\"\\nEnter coefficient 'c' :\")) # Constant\n",
    "\n",
    "check = (b**2)-(4*a*c)\n",
    "\n",
    "if check > 0 or check< 0:\n",
    "    print(\"\\nThe number of roots are 2\")\n",
    "else:\n",
    "    print(\"\\nThe number of roots are 1\")\n",
    " \n",
    "# Calculates roots\n",
    "root1 = (-b+(check**(1/2)))/(2*a)    \n",
    "root2 = (-b-(check**(1/2)))/(2*a)\n",
    "\n",
    "print(\"\\nThe roots are\", root1, \"and\", root2)"
   ]
  },
  {
   "cell_type": "markdown",
   "id": "99f97d79",
   "metadata": {},
   "source": [
    "## Question 5"
   ]
  },
  {
   "cell_type": "code",
   "execution_count": 5,
   "id": "303466c8",
   "metadata": {},
   "outputs": [
    {
     "name": "stdout",
     "output_type": "stream",
     "text": [
      "Enter X:T\n",
      "\n",
      "Enter Y:F\n",
      "\n",
      "X and Y = False\n"
     ]
    }
   ],
   "source": [
    "\"\"\" Simulating AND Gate _ Output 1 \"\"\"\n",
    "\n",
    "# User inputs values\n",
    "x = input(\"Enter X:\")\n",
    "y = input(\"\\nEnter Y:\")\n",
    "\n",
    "# Check whether x and y are true or false\n",
    "yt = (y == \"t\" or y == \"T\")\n",
    "xt = (x == \"t\" or x == \"T\")\n",
    "yf = (y == \"f\" or y == \"F\")\n",
    "xf = (x == \"f\" or x == \"F\")\n",
    "\n",
    "# Checks Truth Table for AND gate\n",
    "if xt and yt:\n",
    "    print(\"\\nX and Y = True\")\n",
    "    \n",
    "elif (xt and yf) or (xf and yt) or (xf and yf):\n",
    "    print(\"\\nX and Y = False\")\n",
    "    \n",
    "else:\n",
    "    print(\"\\nInvalid input\")"
   ]
  },
  {
   "cell_type": "code",
   "execution_count": 6,
   "id": "94d0610c",
   "metadata": {},
   "outputs": [
    {
     "name": "stdout",
     "output_type": "stream",
     "text": [
      "Enter X:g\n",
      "\n",
      "Enter Y:f\n",
      "\n",
      "Invalid input\n"
     ]
    }
   ],
   "source": [
    "\"\"\" Simulating AND Gate _ Output 2 \"\"\"\n",
    "\n",
    "# User inputs values\n",
    "x = input(\"Enter X:\")\n",
    "y = input(\"\\nEnter Y:\")\n",
    "\n",
    "# Check whether x and y are true or false\n",
    "yt = (y == \"t\" or y == \"T\")\n",
    "xt = (x == \"t\" or x == \"T\")\n",
    "yf = (y == \"f\" or y == \"F\")\n",
    "xf = (x == \"f\" or x == \"F\")\n",
    "\n",
    "# Checks Truth Table for AND gate\n",
    "if xt and yt:\n",
    "    print(\"\\nX and Y = True\")\n",
    "    \n",
    "elif (xt and yf) or (xf and yt) or (xf and yf):\n",
    "    print(\"\\nX and Y = False\")\n",
    "    \n",
    "else:\n",
    "    print(\"\\nInvalid input\")"
   ]
  },
  {
   "cell_type": "markdown",
   "id": "44f669cf",
   "metadata": {},
   "source": [
    "## Question 6"
   ]
  },
  {
   "cell_type": "markdown",
   "id": "44a0efb9",
   "metadata": {},
   "source": [
    "- First if condition is False so that block of code is skipped\n",
    "- Condition of elif is True so code goes to nested if statement\n",
    "- The condition of nested if is True so \"The no is 10\" is printed\n",
    "- Rest of the code is skipped"
   ]
  }
 ],
 "metadata": {
  "kernelspec": {
   "display_name": "Python 3 (ipykernel)",
   "language": "python",
   "name": "python3"
  },
  "language_info": {
   "codemirror_mode": {
    "name": "ipython",
    "version": 3
   },
   "file_extension": ".py",
   "mimetype": "text/x-python",
   "name": "python",
   "nbconvert_exporter": "python",
   "pygments_lexer": "ipython3",
   "version": "3.9.9"
  }
 },
 "nbformat": 4,
 "nbformat_minor": 5
}
