{
 "cells": [
  {
   "cell_type": "markdown",
   "id": "5abae504",
   "metadata": {},
   "source": [
    "# Experiment 9"
   ]
  },
  {
   "cell_type": "markdown",
   "id": "81a31da8",
   "metadata": {},
   "source": [
    "## Question 1"
   ]
  },
  {
   "cell_type": "code",
   "execution_count": 1,
   "id": "ec15bcd7",
   "metadata": {},
   "outputs": [
    {
     "name": "stdout",
     "output_type": "stream",
     "text": [
      "animal:Tommy:4\n",
      "4\n",
      "animal:fluffy:4\n"
     ]
    }
   ],
   "source": [
    "class Animal(object):\n",
    "    def __init__(self,name,age):\n",
    "        self.age = age\n",
    "        self.name = name \n",
    "        \n",
    "    def get_age(self):\n",
    "        return self.age\n",
    "    \n",
    "    def get_name(self):\n",
    "        return self.name\n",
    "        \n",
    "    def set_age(self,newage):\n",
    "        self.age = newage\n",
    "    \n",
    "    def set_name(self,newname):\n",
    "        self.name = newname\n",
    "        \n",
    "    def __str__(self):\n",
    "        return \"animal:\"+str(self.name)+\":\"+str(self.age)\n",
    "    \n",
    "T = Animal(\"Tommy\",4)\n",
    "F = Animal(\"fluffy\",4)\n",
    "\n",
    "print(T)\n",
    "print(T.get_age())\n",
    "print(F)"
   ]
  },
  {
   "cell_type": "markdown",
   "id": "373c9c8b",
   "metadata": {},
   "source": [
    "## Question 2"
   ]
  },
  {
   "cell_type": "code",
   "execution_count": 2,
   "id": "3410441f",
   "metadata": {},
   "outputs": [],
   "source": [
    "class Person(object):\n",
    "    def __init__(self,name,age):\n",
    "        self.name = name\n",
    "        self.age = age\n",
    "        \n",
    "    def SayHi(self,freq = 1):\n",
    "        for i in range(freq):\n",
    "            print(\"Hi my name is\", self.name, \"and my age is\", self.age)\n",
    "    \n",
    "    def GetAge(self):\n",
    "        return self.age\n",
    "        \n",
    "    def SetAge(self, new_age):\n",
    "        self.age = new_age\n",
    "        "
   ]
  },
  {
   "cell_type": "markdown",
   "id": "34ddcc89",
   "metadata": {},
   "source": [
    "### Part A"
   ]
  },
  {
   "cell_type": "code",
   "execution_count": 3,
   "id": "282cda07",
   "metadata": {},
   "outputs": [
    {
     "name": "stdout",
     "output_type": "stream",
     "text": [
      "Hi my name is John and my age is 45\n",
      "Hi my name is Paul and my age is 30\n"
     ]
    }
   ],
   "source": [
    "John = Person(\"John\",45)\n",
    "Paul = Person(\"Paul\",30)\n",
    "John.SayHi()\n",
    "Paul.SayHi()"
   ]
  },
  {
   "cell_type": "markdown",
   "id": "765ee26b",
   "metadata": {},
   "source": [
    "### Part B"
   ]
  },
  {
   "cell_type": "code",
   "execution_count": 4,
   "id": "65aa2f39",
   "metadata": {},
   "outputs": [
    {
     "name": "stdout",
     "output_type": "stream",
     "text": [
      "Hi my name is John and my age is 45\n",
      "Hi my name is John and my age is 45\n",
      "Hi my name is John and my age is 45\n",
      "Hi my name is Paul and my age is 30\n",
      "Hi my name is Paul and my age is 30\n"
     ]
    }
   ],
   "source": [
    "John = Person(\"John\",45)\n",
    "Paul = Person(\"Paul\",30)\n",
    "John.SayHi(3)\n",
    "Paul.SayHi(2)"
   ]
  },
  {
   "cell_type": "markdown",
   "id": "94a02abd",
   "metadata": {},
   "source": [
    "### Part C"
   ]
  },
  {
   "cell_type": "code",
   "execution_count": 5,
   "id": "8ed292c5",
   "metadata": {},
   "outputs": [
    {
     "name": "stdout",
     "output_type": "stream",
     "text": [
      "John's age is 45\n",
      "John's new age is 20\n"
     ]
    }
   ],
   "source": [
    "John = Person(\"John\",45)\n",
    "print(\"John's age is\", John.GetAge())\n",
    "John.SetAge(20)\n",
    "print(\"John's new age is\", John.GetAge())"
   ]
  },
  {
   "cell_type": "markdown",
   "id": "432d0a93",
   "metadata": {},
   "source": [
    "## Question 3"
   ]
  },
  {
   "cell_type": "code",
   "execution_count": 6,
   "id": "c6240ac3",
   "metadata": {},
   "outputs": [
    {
     "name": "stdout",
     "output_type": "stream",
     "text": [
      "n1 =  1 - i2\n",
      "n2 =  1 + i3\n",
      "n1 + n2 =  2 + i1\n",
      "n1 * n2 =  7 + i1\n"
     ]
    }
   ],
   "source": [
    "class Complex(object):\n",
    "    def __init__(self,x,y):\n",
    "        self.x = x\n",
    "        self.y = y\n",
    "        \n",
    "    def __str__(self):\n",
    "        if self.y < 0:\n",
    "            return str(self.x)+\" - i\"+str(abs(self.y))\n",
    "        else:\n",
    "            return str(self.x)+\" + i\"+str(self.y)\n",
    "        \n",
    "    def __add__(self,other):\n",
    "        x1 = self.x + other.x\n",
    "        y1 = self.y + other.y\n",
    "        return Complex(x1,y1)\n",
    "    \n",
    "    def __mul__(self,other):\n",
    "        x1 = (self.x * other.x) - (self.y * other.y)\n",
    "        y1 = (self.x * other.y) + (self.y * other.x)\n",
    "        return Complex(x1,y1)\n",
    "\n",
    "n1 = Complex(1,-2)\n",
    "n2 = Complex(1,3)\n",
    "print(\"n1 = \", n1)\n",
    "print(\"n2 = \", n2)\n",
    "n3 = n1 + n2\n",
    "print(\"n1 + n2 = \", n3)\n",
    "n4 = n1 * n2\n",
    "print(\"n1 * n2 = \", n4)"
   ]
  },
  {
   "cell_type": "markdown",
   "id": "6abdccd8",
   "metadata": {},
   "source": [
    "## Question 4"
   ]
  },
  {
   "cell_type": "code",
   "execution_count": 7,
   "id": "a425b184",
   "metadata": {},
   "outputs": [
    {
     "name": "stdout",
     "output_type": "stream",
     "text": [
      "c =  -2/8\n",
      "Float value of c is  -0.125\n",
      "Float value of the inverse of b is  1.6666666666666667\n"
     ]
    }
   ],
   "source": [
    "class Fraction(object):\n",
    "    def __init__(self,n,d):\n",
    "        self.n = n\n",
    "        self.d = d\n",
    "        \n",
    "    def __str__(self):\n",
    "        return str(self.n)+\"/\"+str(self.d)\n",
    "    \n",
    "    def __sub__(self,other):\n",
    "        n = (self.n * other.d) - (self.d * other.n)\n",
    "        d = self.d*other.d\n",
    "        return Fraction(n,d)\n",
    "        \n",
    "    def __float__(self):\n",
    "        return (self.n + 1)/(self.d)\n",
    "        \n",
    "    def inverse(self):\n",
    "        return Fraction(self.d,self.n)\n",
    "        \n",
    "a = Fraction(1,2)\n",
    "b = Fraction(3,4)\n",
    "c = a - b\n",
    "print(\"c = \",c)\n",
    "print(\"Float value of c is \", float(c))\n",
    "print(\"Float value of the inverse of b is \", float(b.inverse()))"
   ]
  },
  {
   "cell_type": "markdown",
   "id": "0344599d",
   "metadata": {},
   "source": [
    "## Question 5"
   ]
  },
  {
   "cell_type": "code",
   "execution_count": 8,
   "id": "a7ef3dee",
   "metadata": {},
   "outputs": [
    {
     "name": "stdout",
     "output_type": "stream",
     "text": [
      "True\n",
      "I can fly\n",
      "No. of eggs =  0\n",
      "Parrot has 0 egg(s)\n",
      "No. of eggs =  1\n",
      "Parrot has 1 egg(s)\n",
      "No. of eggs =  2\n",
      "Parrot has 2 egg(s)\n"
     ]
    }
   ],
   "source": [
    "class Bird(object):\n",
    "    def __init__(self,name):\n",
    "        self.name = name\n",
    "        self.eggs = 0\n",
    "        \n",
    "    def fly(self):\n",
    "        return \"I can fly\"\n",
    "    \n",
    "    def LayEgg(self):\n",
    "        self.eggs += 1\n",
    "    \n",
    "    def CountEggs(self):\n",
    "        return self.eggs\n",
    "    \n",
    "    def __str__(self):\n",
    "        return str(self.name)+\" has \"+str(self.eggs)+\" egg(s)\"\n",
    "    \n",
    "\n",
    "bird1 = Bird(\"Parrot\")\n",
    "print(isinstance(bird1,Bird))\n",
    "print(bird1.fly())\n",
    "print(\"No. of eggs = \", bird1.CountEggs())\n",
    "print(bird1)\n",
    "bird1.LayEgg()\n",
    "print(\"No. of eggs = \", bird1.CountEggs())\n",
    "print(bird1)\n",
    "bird1.LayEgg()\n",
    "print(\"No. of eggs = \", bird1.CountEggs())\n",
    "print(bird1)"
   ]
  },
  {
   "cell_type": "markdown",
   "id": "0eb196d3",
   "metadata": {},
   "source": [
    "## Question 6"
   ]
  },
  {
   "cell_type": "code",
   "execution_count": 9,
   "id": "c678d4b3",
   "metadata": {
    "scrolled": true
   },
   "outputs": [
    {
     "name": "stdout",
     "output_type": "stream",
     "text": [
      "No. of eggs =  0\n",
      "Parrot with ID number 1 has 0 egg(s)\n",
      "No. of eggs =  1\n",
      "Parrot with ID number 1 has 1 egg(s)\n",
      "No. of eggs =  0\n",
      "Parrot with ID number 2 has 0 egg(s)\n",
      "No. of eggs =  1\n",
      "Parrot with ID number 2 has 1 egg(s)\n"
     ]
    }
   ],
   "source": [
    "class Bird(object):\n",
    "    tag = 1\n",
    "    \n",
    "    def __init__(self,name):\n",
    "        self.name = name\n",
    "        self.eggs = 0\n",
    "        self.id = Bird.tag\n",
    "        Bird.tag += 1\n",
    "        \n",
    "    def fly(self):\n",
    "        return \"I can fly\"\n",
    "    \n",
    "    def LayEgg(self):\n",
    "        self.eggs += 1\n",
    "\n",
    "    def CountEggs(self):\n",
    "        return self.eggs\n",
    "    \n",
    "    def __str__(self):\n",
    "        return str(self.name)+\" with ID number \"+str(self.id)+\" has \"+str(self.eggs)+\" egg(s)\"\n",
    "    \n",
    "\n",
    "bird1 = Bird(\"Parrot\")\n",
    "bird2 = Bird(\"Parrot\")\n",
    "\n",
    "print(\"No. of eggs = \", bird1.CountEggs())\n",
    "print(bird1)\n",
    "\n",
    "bird1.LayEgg()\n",
    "print(\"No. of eggs = \", bird1.CountEggs())\n",
    "print(bird1)\n",
    "\n",
    "print(\"No. of eggs = \", bird2.CountEggs())\n",
    "print(bird2)\n",
    "\n",
    "bird2.LayEgg()\n",
    "print(\"No. of eggs = \", bird2.CountEggs())\n",
    "print(bird2)"
   ]
  },
  {
   "cell_type": "markdown",
   "id": "e4f771af",
   "metadata": {},
   "source": [
    "## Question 7"
   ]
  },
  {
   "cell_type": "markdown",
   "id": "994cc1b0",
   "metadata": {},
   "source": [
    "- S = []\n",
    "- S = [3]\n",
    "- S = [3, 4]\n",
    "- S = [3, 4] \n",
    "- s = [3, 4, 6]\n",
    "- s = [4, 6]   \n",
    "  \n",
    "- Output:  \n",
    "{}   \n",
    "{3,4}    \n",
    "True  \n",
    "False  \n",
    "{3,4,6}  \n",
    "{4,6}"
   ]
  }
 ],
 "metadata": {
  "kernelspec": {
   "display_name": "Python 3 (ipykernel)",
   "language": "python",
   "name": "python3"
  },
  "language_info": {
   "codemirror_mode": {
    "name": "ipython",
    "version": 3
   },
   "file_extension": ".py",
   "mimetype": "text/x-python",
   "name": "python",
   "nbconvert_exporter": "python",
   "pygments_lexer": "ipython3",
   "version": "3.9.9"
  }
 },
 "nbformat": 4,
 "nbformat_minor": 5
}
