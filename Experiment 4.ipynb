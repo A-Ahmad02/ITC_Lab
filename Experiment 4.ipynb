{
 "cells": [
  {
   "cell_type": "markdown",
   "id": "b81f7206",
   "metadata": {},
   "source": [
    "# Experiment 4"
   ]
  },
  {
   "cell_type": "markdown",
   "id": "afd30830",
   "metadata": {},
   "source": [
    "## Question 1"
   ]
  },
  {
   "cell_type": "code",
   "execution_count": 1,
   "id": "3afee53c",
   "metadata": {},
   "outputs": [
    {
     "name": "stdout",
     "output_type": "stream",
     "text": [
      "Enter the number of times you want to print:5\n",
      "Hello World\n",
      "Hello World\n",
      "Hello World\n",
      "Hello World\n",
      "Hello World\n"
     ]
    }
   ],
   "source": [
    "\"\"\" Prints 'Hello World' as many times as user input \"\"\"\n",
    "\n",
    "z = int(input(\"Enter the number of times you want to print:\"))\n",
    "y = 1\n",
    "\n",
    "while (y <= z):\n",
    "    print(\"Hello World\")\n",
    "    y += 1"
   ]
  },
  {
   "cell_type": "markdown",
   "id": "e6e55ce5",
   "metadata": {},
   "source": [
    "## Question 2"
   ]
  },
  {
   "cell_type": "code",
   "execution_count": 2,
   "id": "5aaeb3e4",
   "metadata": {},
   "outputs": [
    {
     "name": "stdout",
     "output_type": "stream",
     "text": [
      "\n",
      "Enter a number:-3.5\n",
      "The absolute is 3.5\n",
      "\n",
      "Enter a number:2\n",
      "The absolute is 2.0\n",
      "\n",
      "Enter a number:0\n",
      "The absolute is 0.0\n"
     ]
    }
   ],
   "source": [
    "\"\"\" Calculates absolute of any numbers 3 times \"\"\"\n",
    "\n",
    "for y in range(0,3,1): \n",
    "    x = float(input(\"\\nEnter a number:\")) # Input no. to find its absolute\n",
    "    if x < 0: # If negative multiply by -1 and rewrite it in x\n",
    "        x = -x\n",
    "    print(\"The absolute is\", x)"
   ]
  },
  {
   "cell_type": "markdown",
   "id": "5732337b",
   "metadata": {},
   "source": [
    "## Question 3"
   ]
  },
  {
   "cell_type": "code",
   "execution_count": 3,
   "id": "189a30d6",
   "metadata": {},
   "outputs": [
    {
     "name": "stdout",
     "output_type": "stream",
     "text": [
      "01234567890123456789\n",
      "Integer   Square\n",
      "1            1\n",
      "2            4\n",
      "3            9\n",
      "4            16\n",
      "5            25\n",
      "6            36\n",
      "7            49\n",
      "8            64\n",
      "9            81\n",
      "10            100\n"
     ]
    }
   ],
   "source": [
    "\"\"\" Prints integers 1-10 and their squares \"\"\"\n",
    "\n",
    "print(\"01234567890123456789\")\n",
    "print(\"Integer   Square\")\n",
    "\n",
    "x = 1\n",
    "\n",
    "while x <= 10:\n",
    "    print(x,\"          \",x**2)\n",
    "    x += 1"
   ]
  },
  {
   "cell_type": "code",
   "execution_count": 2,
   "id": "d9550dde",
   "metadata": {},
   "outputs": [
    {
     "name": "stdout",
     "output_type": "stream",
     "text": [
      "01234567890123456789\n",
      "Integer   Square\n",
      "0            0\n",
      "1            1\n",
      "2            4\n",
      "3            9\n",
      "4            16\n",
      "5            25\n",
      "6            36\n",
      "7            49\n",
      "8            64\n",
      "9            81\n",
      "10            100\n"
     ]
    }
   ],
   "source": [
    "\"\"\" Prints integers 1-10 and their squares \"\"\"\n",
    "\n",
    "for i in range(0,2,1):\n",
    "    for j in range(0,10,1):\n",
    "        print(j, end=\"\")\n",
    "print(\"\\nInteger   Square\")\n",
    "\n",
    "for x in range(0,11,1):\n",
    "    print(x,\"          \",x**2)"
   ]
  },
  {
   "cell_type": "markdown",
   "id": "b00b620c",
   "metadata": {},
   "source": [
    "## Question 4"
   ]
  },
  {
   "cell_type": "code",
   "execution_count": 4,
   "id": "a5fd7907",
   "metadata": {},
   "outputs": [
    {
     "name": "stdout",
     "output_type": "stream",
     "text": [
      "In 1233\n",
      "The number of '1's is 1\n",
      "The number of '2's is 1\n",
      "The number of '3's is 2\n"
     ]
    }
   ],
   "source": [
    "\"\"\" Tells number of 1's, 2's and 3's in a given number_Method 1 \"\"\"\n",
    "\n",
    "num_str = input(\"In \")\n",
    "\n",
    "for integer in range(1,4,1):\n",
    "    x = 0\n",
    "    for char in num_str:\n",
    "        if char == str(integer):\n",
    "            x +=1\n",
    "    print(\"The number of '\"+str(integer)+\"'s is\", x)  "
   ]
  },
  {
   "cell_type": "code",
   "execution_count": 5,
   "id": "0ba01ae3",
   "metadata": {},
   "outputs": [
    {
     "name": "stdout",
     "output_type": "stream",
     "text": [
      "In 1233\n",
      "The number of '1's is 1\n",
      "The number of '2's is 1\n",
      "The number of '3's is 2\n"
     ]
    }
   ],
   "source": [
    "\"\"\" Tells number of 1's, 2's and 3's in a given number_Method 2 \"\"\"\n",
    "\n",
    "number = input(\"In \")\n",
    "\n",
    "a = 0\n",
    "b = 0\n",
    "c = 0\n",
    "\n",
    "for char in number:\n",
    "    if char == \"1\":\n",
    "        a +=1\n",
    "    if char == \"2\":\n",
    "        b +=1\n",
    "    if char == \"3\":\n",
    "        c +=1\n",
    "        \n",
    "print(\"The number of '1's is\", a)\n",
    "print(\"The number of '2's is\", b)\n",
    "print(\"The number of '3's is\", c)  "
   ]
  },
  {
   "cell_type": "markdown",
   "id": "ca4d2a04",
   "metadata": {},
   "source": [
    "## Question 5"
   ]
  },
  {
   "cell_type": "code",
   "execution_count": 6,
   "id": "2bb90cd3",
   "metadata": {},
   "outputs": [
    {
     "name": "stdout",
     "output_type": "stream",
     "text": [
      "The number 12321 is a palindrome\n"
     ]
    }
   ],
   "source": [
    "\"\"\" To check whether 's' is a palindrome or not \"\"\"\n",
    "\n",
    "s = \"12321\" # String that is checked to see whether it is a palindrome or not \n",
    "y = len(s)-1\n",
    "c = 0\n",
    "\n",
    "for x in range(0,int(len(s)/2),1):\n",
    "    if s[x] == s[y]:\n",
    "        c += 1\n",
    "    y -= 1\n",
    "    \n",
    "if c == int((len(s)/2)):\n",
    "    print(\"The number\", s, \"is a palindrome\")\n",
    "else:\n",
    "    print(\"The number\", s, \"is not a palindrome\")"
   ]
  },
  {
   "cell_type": "code",
   "execution_count": 13,
   "id": "9c5d8162",
   "metadata": {},
   "outputs": [
    {
     "name": "stdout",
     "output_type": "stream",
     "text": [
      "The number 12321 is a palindrome\n"
     ]
    }
   ],
   "source": [
    "\"\"\" To check whether 's' is a palindrome or not \"\"\"\n",
    "\n",
    "s = \"12321\" # String that is checked to see whether it is a palindrome or not \n",
    "c = 0\n",
    "\n",
    "for x in range(1,(len(s)//2)+1,1):\n",
    "    for y in range(-x,-x-1,-1):\n",
    "        if s[x-1] == s[y]:\n",
    "            c += 1\n",
    "    \n",
    "if c == (len(s)//2):\n",
    "    print(\"The number\", s, \"is a palindrome\")\n",
    "else:\n",
    "    print(\"The number\", s, \"is not a palindrome\")"
   ]
  },
  {
   "cell_type": "code",
   "execution_count": null,
   "id": "a12e2aa6",
   "metadata": {},
   "outputs": [],
   "source": []
  }
 ],
 "metadata": {
  "kernelspec": {
   "display_name": "Python 3 (ipykernel)",
   "language": "python",
   "name": "python3"
  },
  "language_info": {
   "codemirror_mode": {
    "name": "ipython",
    "version": 3
   },
   "file_extension": ".py",
   "mimetype": "text/x-python",
   "name": "python",
   "nbconvert_exporter": "python",
   "pygments_lexer": "ipython3",
   "version": "3.9.9"
  }
 },
 "nbformat": 4,
 "nbformat_minor": 5
}
