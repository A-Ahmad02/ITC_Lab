{
 "cells": [
  {
   "cell_type": "markdown",
   "id": "5abae504",
   "metadata": {},
   "source": [
    "# Experiment 2"
   ]
  },
  {
   "cell_type": "markdown",
   "id": "e8286ed8",
   "metadata": {},
   "source": [
    "## Question 1"
   ]
  },
  {
   "cell_type": "code",
   "execution_count": 1,
   "id": "436cf75e",
   "metadata": {},
   "outputs": [
    {
     "name": "stdout",
     "output_type": "stream",
     "text": [
      "The sum is 7 \n",
      "The product is 10 \n",
      "The difference is 3\n"
     ]
    }
   ],
   "source": [
    "\"\"\" This program calculates the sum, difference and product of two variables \"\"\"\n",
    "\n",
    "x = 2\n",
    "y = 5\n",
    "\n",
    "Sum = x + y # Calculates sum\n",
    "Product = x * y # Calculates product\n",
    "Difference = y - x # Calculates difference\n",
    "\n",
    "print(\"The sum is\", Sum, \"\\nThe product is\", Product, \"\\nThe difference is\", Difference) # Prints sum, difference and product"
   ]
  },
  {
   "cell_type": "markdown",
   "id": "bee65d87",
   "metadata": {},
   "source": [
    "## Question 2"
   ]
  },
  {
   "cell_type": "code",
   "execution_count": 2,
   "id": "c6240ac3",
   "metadata": {},
   "outputs": [
    {
     "name": "stdout",
     "output_type": "stream",
     "text": [
      "Enter the 1st no.:10\n",
      "\n",
      "Enter the 2nd no.:12\n",
      "\n",
      "Enter the 3rd no.:15\n",
      "\n",
      "The average is 12.333333333333334\n"
     ]
    }
   ],
   "source": [
    "\"\"\" This program calcultes the mean of three numbers \"\"\"\n",
    "\n",
    "x = float(input(\"Enter the 1st no.:\")) # The first number entered by user\n",
    "y = float(input(\"\\nEnter the 2nd no.:\")) # The second number entered by user\n",
    "z = float(input(\"\\nEnter the 3rd no.:\")) # The third number entered by user\n",
    "\n",
    "Average = (x+y+z)/3 # Average is calculted here\n",
    "\n",
    "print(\"\\nThe average is\", Average) # Average is displayed by this statement"
   ]
  },
  {
   "cell_type": "markdown",
   "id": "6abdccd8",
   "metadata": {},
   "source": [
    "## Question 3"
   ]
  },
  {
   "cell_type": "code",
   "execution_count": 3,
   "id": "a425b184",
   "metadata": {},
   "outputs": [
    {
     "name": "stdout",
     "output_type": "stream",
     "text": [
      "Enter 'a':\n",
      "1\n",
      "\n",
      "Enter \"b\":\n",
      "9\n",
      "\n",
      "Enter 'c':\n",
      "9\n",
      "\n",
      "The roots are -1.1458980337503153 and -7.854101966249685\n"
     ]
    }
   ],
   "source": [
    "\"\"\" Calculates roots of a quadratic equation \"\"\"\n",
    "\n",
    "a = int(input(\"Enter 'a':\\n\")) # Input coefficient of x square\n",
    "b = int(input(\"\"\"\\nEnter \"b\":\\n\"\"\")) # Input coefficient of x\n",
    "c = int(input(\"\\nEnter 'c':\\n\")) # Input constant\n",
    "\n",
    "root1 = ((-1*b)+(((b**2)-(4*a*c))**(1/2)))/(2*a) # Calculates first root\n",
    "root2 = ((-1*b)-(((b**2)-(4*a*c))**(1/2)))/(2*a) # Calculates second root\n",
    "              \n",
    "print(\"\\nThe roots are\", root1, \"and\", root2) # Prints values of roots"
   ]
  },
  {
   "cell_type": "markdown",
   "id": "0344599d",
   "metadata": {},
   "source": [
    "## Question 4"
   ]
  },
  {
   "cell_type": "code",
   "execution_count": 4,
   "id": "9a1e42fc",
   "metadata": {},
   "outputs": [
    {
     "name": "stdout",
     "output_type": "stream",
     "text": [
      "The value of alpha is 78.46304096718453\n",
      "The value of c is 10 metres\n",
      "The value of b is 48.98979485566356\n"
     ]
    }
   ],
   "source": [
    "\"\"\" Finds the base and angle from base to hypotenuse\n",
    "of a right angle triangle\n",
    "when we have its height and hypotenuse\"\"\"\n",
    "\n",
    "import math\n",
    "\n",
    "A = 50 # Value of hypotenuse\n",
    "C = 10 # Value of height\n",
    "B = ((A**2)-(C**2))**(1/2) # Calculates value of base\n",
    "alpha = math.acos(C/A)*(180/math.pi) # calculates angle between A and B\n",
    "\n",
    "print(\"The value of alpha is\", alpha) # Prints value of angle between A and B\n",
    "print(\"The value of c is\", C, \"metres\") # Prints value of height\n",
    "print(\"The value of b is\", B) # Prints value of base"
   ]
  },
  {
   "cell_type": "markdown",
   "id": "99f97d79",
   "metadata": {},
   "source": [
    "## Question 5"
   ]
  },
  {
   "cell_type": "code",
   "execution_count": 5,
   "id": "303466c8",
   "metadata": {},
   "outputs": [
    {
     "name": "stdout",
     "output_type": "stream",
     "text": [
      "The answer is 0.1055722406155186\n"
     ]
    }
   ],
   "source": [
    "\"\"\" Calculates value of a specific equation \"\"\"\n",
    "\n",
    "import math\n",
    "\n",
    "a = 10 \n",
    "b = 5\n",
    "c = 15\n",
    "d = 20\n",
    "theta = 45*(math.pi/180) # Angle in degrees\n",
    "\n",
    "Out = ((((math.sin(theta)*a/b)**(a/(b**2)))+(math.cos(theta)*b/a)**(1/(a+b)))**(1/2))/((math.tan(theta)*c)-(d/c))\n",
    "# Calculates value of equation\n",
    "\n",
    "print(\"The answer is\", Out) # Prints answer"
   ]
  },
  {
   "cell_type": "markdown",
   "id": "44f669cf",
   "metadata": {},
   "source": [
    "## Question 6\n",
    "\n",
    "- Step1: x = 2 y = 5\n",
    "- Step2: x = 3 y = 5\n",
    "- Step3: x = 3 y = 6\n",
    "- Step4: x = 9 y = 3"
   ]
  }
 ],
 "metadata": {
  "kernelspec": {
   "display_name": "Python 3 (ipykernel)",
   "language": "python",
   "name": "python3"
  },
  "language_info": {
   "codemirror_mode": {
    "name": "ipython",
    "version": 3
   },
   "file_extension": ".py",
   "mimetype": "text/x-python",
   "name": "python",
   "nbconvert_exporter": "python",
   "pygments_lexer": "ipython3",
   "version": "3.9.9"
  }
 },
 "nbformat": 4,
 "nbformat_minor": 5
}
