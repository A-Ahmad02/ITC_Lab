{
 "cells": [
  {
   "cell_type": "code",
   "execution_count": null,
   "metadata": {},
   "outputs": [],
   "source": [
    "# Green Paper\n",
    "x = 1\n",
    "y = 2\n",
    "print(\"I scored\",x,\"marks out of\",y,\"in the test.\")"
   ]
  },
  {
   "cell_type": "code",
   "execution_count": 1,
   "metadata": {},
   "outputs": [
    {
     "name": "stdout",
     "output_type": "stream",
     "text": [
      "The answer is 2.3516361022462644\n"
     ]
    }
   ],
   "source": [
    "z = 2.45\n",
    "\n",
    "\n",
    "if z > 0:\n",
    "    z = (2*(z**2) + 1)**(1/3)\n",
    "elif z <= 0:\n",
    "    z = (2*(z**2) - 1)**(1/3)\n",
    "print(\"The answer is\",z)"
   ]
  },
  {
   "cell_type": "code",
   "execution_count": 13,
   "metadata": {},
   "outputs": [
    {
     "name": "stdout",
     "output_type": "stream",
     "text": [
      "Enter 'a':-5\n",
      "Enter 'b':10\n",
      "Enter 'c':5\n",
      "The roots are -0.4142135623730951 ( negative ) and 2.414213562373095 ( positive )\n"
     ]
    }
   ],
   "source": [
    "a=float(input(\"\"\"Enter 'a':\"\"\"))\n",
    "b=float(input(\"\"\"Enter 'b':\"\"\"))\n",
    "c=float(input(\"\"\"Enter 'c':\"\"\"))\n",
    "r1 = (-b + ((b**2)-(4*a*c))**(0.5)) / (2*a)\n",
    "r2 = (-b - ((b**2)-(4*a*c))**(0.5)) / (2*a)\n",
    "\n",
    "if r1 >= 0 :\n",
    "    sr1 = \"positive\"\n",
    "elif r1<0:\n",
    "    sr1 = \"negative\"\n",
    "\n",
    "if r2 >= 0:\n",
    "    sr2 = \"positive\"\n",
    "elif r2<0:\n",
    "    sr2 = \"negative\"\n",
    "    \n",
    "print(\"The roots are\",r1,\"(\",sr1,\")\",\"and\",r2,\"(\",sr2,\")\")\n",
    "\n",
    "    "
   ]
  },
  {
   "cell_type": "code",
   "execution_count": 3,
   "metadata": {},
   "outputs": [
    {
     "name": "stdout",
     "output_type": "stream",
     "text": [
      "answer =  1.2405044111174302\n"
     ]
    }
   ],
   "source": [
    "y = 50\n",
    "if y < 5:\n",
    "    y = (2*(y**(1/3)) + 5)**(1/4)\n",
    "elif y >= 5:\n",
    "    y = (2*(y**(1/3)) - 5)**(1/4)\n",
    "print(\"answer = \",y)"
   ]
  },
  {
   "cell_type": "code",
   "execution_count": 2,
   "metadata": {},
   "outputs": [
    {
     "name": "stdout",
     "output_type": "stream",
     "text": [
      "Out of 2 marks, I scored 1 marks in the test.\n"
     ]
    }
   ],
   "source": [
    "# Golden Paper\n",
    "a = 1\n",
    "b = 2\n",
    "print(\"Out of\",b,\"marks, I scored\",a,\"marks in the test.\")"
   ]
  },
  {
   "cell_type": "code",
   "execution_count": 10,
   "metadata": {},
   "outputs": [
    {
     "name": "stdout",
     "output_type": "stream",
     "text": [
      "Enter 'a':-5\n",
      "Enter 'b':10\n",
      "Enter 'c':-5\n",
      "The roots of -5 x**2  +  10 x  -  5 are 1.0 and 1.0\n"
     ]
    }
   ],
   "source": [
    "a=int(input(\"\"\"Enter 'a':\"\"\"))\n",
    "b=int(input(\"\"\"Enter 'b':\"\"\"))\n",
    "c=int(input(\"\"\"Enter 'c':\"\"\"))\n",
    "r1 = (-b + ((b**2)-(4*a*c))**(0.5)) / (2*a)\n",
    "r2 = (-b - ((b**2)-(4*a*c))**(0.5)) / (2*a)\n",
    "\n",
    "if b >= 0 :\n",
    "    s1 = \"+ \"\n",
    "else:\n",
    "    s1 = \"- \"\n",
    "    b  = -b\n",
    "if c >= 0:\n",
    "    s2 = \"+ \"\n",
    "else:\n",
    "    s2 = \"- \"\n",
    "    c  = -c\n",
    "    \n",
    "print(\"The roots of\",a,\"x**2 \", s1 , b , \"x \" ,  s2 , c ,\"are\",r1,\"and\",r2)\n"
   ]
  },
  {
   "cell_type": "code",
   "execution_count": 1,
   "metadata": {},
   "outputs": [
    {
     "name": "stdout",
     "output_type": "stream",
     "text": [
      "2 out of 5 eggs were rotten.\n"
     ]
    }
   ],
   "source": [
    "# Blue Paper\n",
    "c = 5\n",
    "d = 2\n",
    "print(d,\"out of\",c,\"eggs were rotten.\")"
   ]
  },
  {
   "cell_type": "code",
   "execution_count": 1,
   "metadata": {},
   "outputs": [
    {
     "name": "stdout",
     "output_type": "stream",
     "text": [
      "1.8453076938873183 is the answer\n"
     ]
    }
   ],
   "source": [
    "f = 20\n",
    "\n",
    "if f >= 10:\n",
    "    f = ( ( (f**(1/3)) / (f**(1/4)) ) + 5)**(1/3)\n",
    "elif f < 10:\n",
    "    f = ( (f**(1/3)) * ( 5 / (f**(1/4)) ) )**(1/3)\n",
    "print(f,\"is the answer\")"
   ]
  },
  {
   "cell_type": "code",
   "execution_count": 11,
   "metadata": {},
   "outputs": [
    {
     "name": "stdout",
     "output_type": "stream",
     "text": [
      "Enter the 1st no.:-1\n",
      "Enter the 2nd no.:6\n",
      "Enter the 3rd no.:1\n",
      "( -1.0 + 6.0 + 1.0 ) / 3 = 2.0\n"
     ]
    }
   ],
   "source": [
    "x = float(input(\"Enter the 1st no.:\")) \n",
    "y = float(input(\"Enter the 2nd no.:\")) \n",
    "z = float(input(\"Enter the 3rd no.:\")) \n",
    "\n",
    "a = (x+y+z)/3 \n",
    "\n",
    "if y > 0:\n",
    "    s2 = \"+\"\n",
    "else:\n",
    "    s2 = \"-\"\n",
    "    y = -y\n",
    "if z > 0:\n",
    "    s3 = \"+\"\n",
    "else:\n",
    "    s3 = \"-\"\n",
    "    z = -z\n",
    "    \n",
    "print(\"(\",x,s2,y,s3,z,\") / 3 =\",a)"
   ]
  },
  {
   "cell_type": "code",
   "execution_count": 3,
   "metadata": {},
   "outputs": [
    {
     "name": "stdout",
     "output_type": "stream",
     "text": [
      "Total no of eggs is 5 and 2 are rotten.\n"
     ]
    }
   ],
   "source": [
    "# White Paper 1\n",
    "u = 2\n",
    "p = 5\n",
    "print(\"Total no of eggs is\",p,\"and\",u,\"are rotten.\")"
   ]
  },
  {
   "cell_type": "code",
   "execution_count": 6,
   "metadata": {},
   "outputs": [
    {
     "name": "stdout",
     "output_type": "stream",
     "text": [
      "1.9632789599600335 is the answer\n"
     ]
    }
   ],
   "source": [
    "g = 5\n",
    "\n",
    "if g <= 20:\n",
    "    g = ( ( 1 / ( g**(1/4) ) ) + ( 5 * g**(1/5) ) )**(1/3)\n",
    "elif g > 20:\n",
    "    g = ( ( g**(1/3) ) * ( 5 / ( g**(1/4) ) ) ) ** (1/5)\n",
    "print(g,\"is the answer\")"
   ]
  },
  {
   "cell_type": "code",
   "execution_count": 12,
   "metadata": {},
   "outputs": [
    {
     "name": "stdout",
     "output_type": "stream",
     "text": [
      "Enter the 1st no.:1\n",
      "Enter the 2nd no.:1\n",
      "Enter the 3rd no.:1\n",
      "******************************\n",
      "* param   * values           *\n",
      "******************************\n",
      "* sum     * 3.0 \n",
      "* product * 1.0 \n",
      "* average * 1.0 \n",
      "******************************\n"
     ]
    }
   ],
   "source": [
    "m = float(input(\"Enter the 1st no.:\")) \n",
    "n = float(input(\"Enter the 2nd no.:\")) \n",
    "o = float(input(\"Enter the 3rd no.:\")) \n",
    "\n",
    "s = m+n+o\n",
    "p = m*n*o\n",
    "a = (m+n+o) / 3\n",
    "\n",
    "\n",
    "    \n",
    "print(\"******************************\\n* param   * values           *\\n******************************\\n* sum     *\",s,\"\\n* product *\",p,\"\\n* average *\",a,\"\\n******************************\")"
   ]
  },
  {
   "cell_type": "code",
   "execution_count": 1,
   "metadata": {},
   "outputs": [
    {
     "name": "stdout",
     "output_type": "stream",
     "text": [
      "j= 1 and k = 2 \n",
      "j= 1 and k = 2 \n",
      "j= 1 and k = 2\n"
     ]
    }
   ],
   "source": [
    "# White Paper 2\n",
    "j = 3\n",
    "k = 5\n",
    "print(\"j=\",j,\"and k =\",k,\"\\nj=\",j,\"and k =\",k,\"\\nj=\",j,\"and k =\",k,)"
   ]
  },
  {
   "cell_type": "code",
   "execution_count": null,
   "metadata": {},
   "outputs": [],
   "source": []
  }
 ],
 "metadata": {
  "kernelspec": {
   "display_name": "Python 3",
   "language": "python",
   "name": "python3"
  },
  "language_info": {
   "codemirror_mode": {
    "name": "ipython",
    "version": 3
   },
   "file_extension": ".py",
   "mimetype": "text/x-python",
   "name": "python",
   "nbconvert_exporter": "python",
   "pygments_lexer": "ipython3",
   "version": "3.8.3"
  }
 },
 "nbformat": 4,
 "nbformat_minor": 4
}
