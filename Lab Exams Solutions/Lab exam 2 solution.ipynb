{
 "cells": [
  {
   "cell_type": "code",
   "execution_count": null,
   "metadata": {},
   "outputs": [],
   "source": [
    "for x in range(0,5,1):\n",
    "    print(\"Hello World\")"
   ]
  },
  {
   "cell_type": "code",
   "execution_count": 4,
   "metadata": {},
   "outputs": [
    {
     "name": "stdout",
     "output_type": "stream",
     "text": [
      "***\n",
      "***\n"
     ]
    }
   ],
   "source": [
    "def shape(x,row,col):\n",
    "    \n",
    "    def square(row):\n",
    "        \n",
    "        for a in range(0,row,1):\n",
    "            for b in range(0,row,1):\n",
    "                print('*',end=\"\")\n",
    "            print()\n",
    "            \n",
    "    def rectangle(row,col):\n",
    "        \n",
    "        for a in range(0,row,1):\n",
    "            for b in range(0,col,1):\n",
    "                print('*',end=\"\")\n",
    "            print()\n",
    "            \n",
    "    if x==1:\n",
    "        square(row)\n",
    "    else:\n",
    "        rectangle(row,col)\n",
    "        \n",
    "shape(2,2,3)"
   ]
  },
  {
   "cell_type": "code",
   "execution_count": 5,
   "metadata": {},
   "outputs": [
    {
     "name": "stdout",
     "output_type": "stream",
     "text": [
      "Enter no. of rows of the pyramid: 4\n",
      "   *\n",
      "  ***\n",
      " *****\n",
      "*******\n",
      "1234567"
     ]
    }
   ],
   "source": [
    "r=int(input(\"Enter no. of rows of the pyramid: \"))\n",
    "a=r-1\n",
    "b=1\n",
    "\n",
    "for x in range(0,r,1):\n",
    "    for y in range(0,a,1):\n",
    "        print(\" \",end=\"\")\n",
    "    for z in range(0,b,1):\n",
    "        print(\"*\",end=\"\")\n",
    "    print(\"\")    \n",
    "    a=a-1\n",
    "    b=b+2\n",
    "for w in range(0,(r*2)-1,1):\n",
    "     print(w+1,end=\"\")"
   ]
  },
  {
   "cell_type": "code",
   "execution_count": 1,
   "metadata": {},
   "outputs": [
    {
     "name": "stdout",
     "output_type": "stream",
     "text": [
      "L1 =  [1, 1]\n",
      "L2 =  [2, 2]\n",
      "L3 =  [['add', 3, 3], ['sub', -1, -1]]\n"
     ]
    }
   ],
   "source": [
    "def f(L1,L2):\n",
    "    \n",
    "    L3=[([0] * (len(L1)+1)) for x in range(0,2,1)]\n",
    "    L3[0][0] = \"add\"\n",
    "    L3[1][0] = \"sub\"\n",
    "        \n",
    "    x=0\n",
    "    for c in range(1,len(L1)+1,1):\n",
    "        L3[0][c] = L1[x]+L2[x]\n",
    "        L3[1][c] = L1[x]-L2[x]\n",
    "        x=x+1\n",
    "      \n",
    "    print(\"L1 = \",L1)\n",
    "    print(\"L2 = \",L2)\n",
    "    print(\"L3 = \",L3)\n",
    "\n",
    "        \n",
    "L1 = [1,1]\n",
    "L2 = [2,2]\n",
    "\n",
    "f(L1,L2)"
   ]
  },
  {
   "cell_type": "code",
   "execution_count": 21,
   "metadata": {},
   "outputs": [
    {
     "name": "stdout",
     "output_type": "stream",
     "text": [
      "Hello World\n",
      "Hello World\n",
      "Hello World\n",
      "Hello World\n",
      "Hello World\n"
     ]
    }
   ],
   "source": [
    "x = 0\n",
    "while(x<5):\n",
    "    print(\"Hello World\")\n",
    "    x = x+1"
   ]
  },
  {
   "cell_type": "code",
   "execution_count": 3,
   "metadata": {},
   "outputs": [
    {
     "name": "stdout",
     "output_type": "stream",
     "text": [
      "( 1 , 1 )\n",
      "( 2 , 1 )\n",
      "( 3 , 1 )\n",
      "( -1 , -1 )\n",
      "( -2 , -1 )\n",
      "( -3 , -1 )\n"
     ]
    }
   ],
   "source": [
    "def f3(x,row,col):\n",
    "    \n",
    "    def f1(row,col):\n",
    "        \n",
    "        for a in range(1,row+1,1):\n",
    "            for b in range(1,col+1,1):\n",
    "                print('(',a,',',b,')',end=\"\")\n",
    "            print()\n",
    "            \n",
    "    def f2(row,col):\n",
    "        \n",
    "        for a in range(1,row+1,1):\n",
    "            for b in range(1,col+1,1):\n",
    "                print('(',-1*a,',',-1*b,')',end=\"\")\n",
    "            print()\n",
    "            \n",
    "    if x==\"a\":\n",
    "        f1(row,col)\n",
    "    elif x==\"b\":\n",
    "        f2(row,col)\n",
    "        \n",
    "f3(\"a\",3,1)\n",
    "f3(\"b\",3,1)"
   ]
  },
  {
   "cell_type": "code",
   "execution_count": 21,
   "metadata": {},
   "outputs": [
    {
     "name": "stdout",
     "output_type": "stream",
     "text": [
      "Enter rows: 5\n",
      "1*********\n",
      "2 *******\n",
      "3  *****\n",
      "4   ***\n",
      "5    *\n"
     ]
    }
   ],
   "source": [
    "rows = int(input(\"Enter rows: \"))\n",
    "stars = (rows*2 - 1)\n",
    "space = 0\n",
    "\n",
    "for r in range(0,rows,1):\n",
    "    print(r+1,end=\"\")\n",
    "    for y in range(0,space,1):\n",
    "        print(\" \",end=\"\")\n",
    "    for x in range(0,stars,1):\n",
    "        print(\"*\",end=\"\")\n",
    "  \n",
    "    print()\n",
    "    stars = stars - 2\n",
    "    space = space + 1"
   ]
  },
  {
   "cell_type": "code",
   "execution_count": 2,
   "metadata": {},
   "outputs": [
    {
     "name": "stdout",
     "output_type": "stream",
     "text": [
      "L =  [[1, 1, 1, 1, 1], [1, 1, 1, 1, 1]]\n",
      "L1 = [['add', 2, 2, 2, 2, 2], ['sub', 0, 0, 0, 0, 0]]\n"
     ]
    }
   ],
   "source": [
    "def f(L):\n",
    "    \n",
    "    L1 = [ ([0]*(len(L[0]) + 1)) for x in range(0,2,1) ]\n",
    "    L1[0][0] = \"add\"\n",
    "    L1[1][0] = \"sub\"\n",
    "    \n",
    "    x=0\n",
    "    for c in range(1,len(L[0])+1,1):\n",
    "            L1[0][c] = L[0][x] + L[1][x]\n",
    "            L1[1][c] = L[0][x] - L[1][x]\n",
    "            x=x+1\n",
    "       \n",
    "    print(\"L = \",L)\n",
    "    print(\"L1 =\",L1)\n",
    "    \n",
    "L = [[1,1,1,1,1],[1,1,1,1,1]]\n",
    "f(L)"
   ]
  }
 ],
 "metadata": {
  "kernelspec": {
   "display_name": "Python 3",
   "language": "python",
   "name": "python3"
  },
  "language_info": {
   "codemirror_mode": {
    "name": "ipython",
    "version": 3
   },
   "file_extension": ".py",
   "mimetype": "text/x-python",
   "name": "python",
   "nbconvert_exporter": "python",
   "pygments_lexer": "ipython3",
   "version": "3.8.3"
  }
 },
 "nbformat": 4,
 "nbformat_minor": 4
}
