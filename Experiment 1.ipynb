{
 "cells": [
  {
   "cell_type": "markdown",
   "id": "7a34b5d3-f531-4c55-93bd-64f4e1228414",
   "metadata": {},
   "source": [
    "# Experiment 1"
   ]
  },
  {
   "cell_type": "markdown",
   "id": "fe1459b3",
   "metadata": {},
   "source": [
    "## Question 1"
   ]
  },
  {
   "cell_type": "code",
   "execution_count": 1,
   "id": "c4467c6a-d27f-4a74-ab21-ca90e5777675",
   "metadata": {},
   "outputs": [
    {
     "name": "stdout",
     "output_type": "stream",
     "text": [
      "Welcome to Intro to Computing\n",
      "Nice to meet you\n"
     ]
    }
   ],
   "source": [
    "print(\"Welcome to Intro to Computing\")\n",
    "print(\"Nice to meet you\")"
   ]
  },
  {
   "cell_type": "markdown",
   "id": "f30d5234",
   "metadata": {},
   "source": [
    "## Question 2"
   ]
  },
  {
   "cell_type": "code",
   "execution_count": 2,
   "id": "33e6441f",
   "metadata": {},
   "outputs": [
    {
     "name": "stdout",
     "output_type": "stream",
     "text": [
      "My name is Ali\n",
      "I studied FSc in Punjab College Lahore.\n",
      "I scored 1000/1100 marks in FSc\n",
      "and 380/400 in the entry test.\n"
     ]
    }
   ],
   "source": [
    "print(\"My name is Ali\")\n",
    "print(\"I studied FSc in Punjab College Lahore.\")\n",
    "print(\"I scored 1000/1100 marks in FSc\")\n",
    "print(\"and 380/400 in the entry test.\")"
   ]
  },
  {
   "cell_type": "code",
   "execution_count": 3,
   "id": "2fe98eae",
   "metadata": {},
   "outputs": [
    {
     "name": "stdout",
     "output_type": "stream",
     "text": [
      "My name is Ali\n",
      "I studied FSc in Punjab College Lahore.\n",
      "I scored 1000/1100 marks in FSc\n",
      "and 380/400 in the entry test.\n"
     ]
    }
   ],
   "source": [
    "print(\"My name is Ali\\nI studied FSc in Punjab College Lahore.\\nI scored 1000/1100 marks in FSc\\nand 380/400 in the entry test.\")"
   ]
  },
  {
   "cell_type": "markdown",
   "id": "9c8fc52c",
   "metadata": {},
   "source": [
    "## Question 3"
   ]
  },
  {
   "cell_type": "code",
   "execution_count": 4,
   "id": "f116ec8a",
   "metadata": {
    "scrolled": true
   },
   "outputs": [
    {
     "name": "stdout",
     "output_type": "stream",
     "text": [
      "Part a:\n",
      "1\n",
      "2\n",
      "3\n",
      "4\n",
      "5\n",
      "Part b:\n",
      "1\n",
      "2\n",
      "3\n",
      "4\n",
      "5\n",
      "Part c: 12345\n",
      "Part d: 1 2 3 4 5\n",
      "Part e: 1 2 3 4 5\n"
     ]
    }
   ],
   "source": [
    "print(\"Part a:\")\n",
    "print(\"1\")\n",
    "print(\"2\")\n",
    "print(\"3\")\n",
    "print(\"4\")\n",
    "print(\"5\")\n",
    "\n",
    "print(\"Part b:\")\n",
    "print(\"1\\n2\\n3\\n4\\n5\")\n",
    "\n",
    "print(\"Part c:\",end=\" \")\n",
    "print(\"1\",end=\"\")\n",
    "print(\"2\",end=\"\")\n",
    "print(\"3\",end=\"\")\n",
    "print(\"4\",end=\"\")\n",
    "print(\"5\")\n",
    "\n",
    "print(\"Part d:\",end=\" \")\n",
    "print(\"1\",end=\" \")\n",
    "print(\"2\",end=\" \")\n",
    "print(\"3\",end=\" \")\n",
    "print(\"4\",end=\" \")\n",
    "print(\"5\")\n",
    "\n",
    "print(\"Part e:\",end=\" \")\n",
    "print(\"1 2 3 4 5\")"
   ]
  },
  {
   "cell_type": "markdown",
   "id": "98d3efe5",
   "metadata": {},
   "source": [
    "## Question 4"
   ]
  },
  {
   "cell_type": "code",
   "execution_count": 5,
   "id": "1b4d7bd1",
   "metadata": {},
   "outputs": [
    {
     "name": "stdout",
     "output_type": "stream",
     "text": [
      "A Diamond\n",
      "\n",
      "     *\n",
      "    ***\n",
      "   *****\n",
      "  *******\n",
      " *********\n",
      "***********\n",
      " *********\n",
      "  *******\n",
      "   *****\n",
      "    ***\n",
      "     *\n"
     ]
    }
   ],
   "source": [
    "print(\"A Diamond\\n\")\n",
    "print(\"     *\")\n",
    "print(\"    ***\")\n",
    "print(\"   *****\")\n",
    "print(\"  *******\")\n",
    "print(\" *********\")\n",
    "print(\"***********\")\n",
    "print(\" *********\")\n",
    "print(\"  *******\")\n",
    "print(\"   *****\")\n",
    "print(\"    ***\")\n",
    "print(\"     *\")"
   ]
  },
  {
   "cell_type": "code",
   "execution_count": 6,
   "id": "ce7e4587",
   "metadata": {
    "scrolled": true
   },
   "outputs": [
    {
     "name": "stdout",
     "output_type": "stream",
     "text": [
      "A Diamond\n",
      "\n",
      "     *\n",
      "    ***\n",
      "   *****\n",
      "  *******\n",
      " *********\n",
      "***********\n",
      " *********\n",
      "  *******\n",
      "   *****\n",
      "    ***\n",
      "     *\n"
     ]
    }
   ],
   "source": [
    "print(\"A Diamond\\n\\n     *\\n    ***\\n   *****\\n  *******\\n *********\\n***********\\n *********\\n  *******\\n   *****\\n    ***\\n     *\")"
   ]
  },
  {
   "cell_type": "markdown",
   "id": "0d4b374c",
   "metadata": {},
   "source": [
    "## Question 5"
   ]
  },
  {
   "cell_type": "code",
   "execution_count": 7,
   "id": "19867b71",
   "metadata": {},
   "outputs": [
    {
     "name": "stdout",
     "output_type": "stream",
     "text": [
      "            A Diamond\n",
      "\n",
      "123456789012345678901234567890123\n",
      "\n",
      "  Diamond      Diamond   Diamond\n",
      "     1            2         3\n",
      "\n",
      "     *\n",
      "    ***\n",
      "   *****\n",
      "  *******         *\n",
      " *********       ***        *\n",
      "***********     *****      ***\n",
      " *********       ***        *\n",
      "  *******         *\n",
      "   *****\n",
      "    ***\n",
      "     *\n"
     ]
    }
   ],
   "source": [
    "print(\"            A Diamond\\n\")\n",
    "print(\"123456789012345678901234567890123\\n\")\n",
    "print(\"  Diamond      Diamond   Diamond\")\n",
    "print(\"     1            2         3\\n\")\n",
    "print(\"     *\")\n",
    "print(\"    ***\")\n",
    "print(\"   *****\")\n",
    "print(\"  *******         *\")\n",
    "print(\" *********       ***        *\")\n",
    "print(\"***********     *****      ***\")\n",
    "print(\" *********       ***        *\")\n",
    "print(\"  *******         *\")\n",
    "print(\"   *****\")\n",
    "print(\"    ***\")\n",
    "print(\"     *\")"
   ]
  }
 ],
 "metadata": {
  "kernelspec": {
   "display_name": "Python 3 (ipykernel)",
   "language": "python",
   "name": "python3"
  },
  "language_info": {
   "codemirror_mode": {
    "name": "ipython",
    "version": 3
   },
   "file_extension": ".py",
   "mimetype": "text/x-python",
   "name": "python",
   "nbconvert_exporter": "python",
   "pygments_lexer": "ipython3",
   "version": "3.9.9"
  }
 },
 "nbformat": 4,
 "nbformat_minor": 5
}
