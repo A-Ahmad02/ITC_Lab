{
 "cells": [
  {
   "cell_type": "markdown",
   "id": "5abae504",
   "metadata": {},
   "source": [
    "# Experiment 8"
   ]
  },
  {
   "cell_type": "markdown",
   "id": "bee65d87",
   "metadata": {},
   "source": [
    "## Question 1"
   ]
  },
  {
   "cell_type": "markdown",
   "id": "0479ef69",
   "metadata": {},
   "source": [
    "- print statement is run and ct2 function is called\n",
    "\n",
    "Loop_no.   key   d\n",
    "      0      0   {1:5, 0:2}\n",
    "      \n",
    "- Enters while loop\n",
    "\n",
    "      1      2   {1:5, 0:2, 2:1}\n",
    "      2      1   {1:5, 0:2, 2:1, 4:3}\n",
    "      3      5   {1:5, 0:2, 2:1, 4:3, 3:2}\n",
    "      \n",
    "- Exits while loop\n",
    "- d.keys() = [1, 0, 2, 4, 3]\n",
    "- sorted(d.keys()) = [0, 1, 2, 3, 4]  \n",
    "  \n",
    "key   10*key + d[key]   L  \n",
    "  0   10x0 + d[0] = 02  [2]  \n",
    "  1   10x1 + d[1] = 15  [2, 15]  \n",
    "  2   10x2 + d[2] = 21  [2, 15, 21]  \n",
    "  3   10x3 + d[3] = 32  [2, 15, 21, 32]  \n",
    "  4   10x4 + d[4] = 43  [2, 15, 21, 32, 43]   \n",
    "    \n",
    "- L is returned to where the function was called\n",
    "- [2, 15, 21, 32, 43] is printed"
   ]
  },
  {
   "cell_type": "markdown",
   "id": "e8286ed8",
   "metadata": {},
   "source": [
    "## Question 2"
   ]
  },
  {
   "cell_type": "code",
   "execution_count": 1,
   "id": "436cf75e",
   "metadata": {},
   "outputs": [
    {
     "name": "stdout",
     "output_type": "stream",
     "text": [
      "Enter city:Lahore\n",
      "Lahore is in Punjab\n"
     ]
    }
   ],
   "source": [
    "d = {\"Lahore\":\"Punjab\", \"Peshawar\":\"KPK\", \"Karachi\":\"Sindh\", \"Quetta\":\"Balochistan\", \"Gilgit\":\"GB\"}\n",
    "\n",
    "i = input(\"Enter city:\")\n",
    "if i in d:\n",
    "    print(i, \"is in\", d[i])\n",
    "else:\n",
    "    print(\"The city is not in the dictionary.\")"
   ]
  },
  {
   "cell_type": "markdown",
   "id": "6abdccd8",
   "metadata": {},
   "source": [
    "## Question 3"
   ]
  },
  {
   "cell_type": "code",
   "execution_count": 2,
   "id": "a425b184",
   "metadata": {},
   "outputs": [
    {
     "name": "stdout",
     "output_type": "stream",
     "text": [
      "The resultant dictionary is {'a': 70, 'b': 8, 'c': 50}\n"
     ]
    }
   ],
   "source": [
    "def add(d1, d2):\n",
    "    dict_ = {}\n",
    "    if len(d1) == len(d2):\n",
    "        for i in d1:\n",
    "            dict_[i] = d1[i] + d2[i]\n",
    "    else:\n",
    "        print(\"The dictionaries are not of the same size.\")\n",
    "    return dict_\n",
    "\n",
    "d1 = {\"a\":50, \"b\":5, \"c\":10}\n",
    "d2 = {\"a\":20, \"b\":3, \"c\":40}\n",
    "print(\"The resultant dictionary is\", add(d1 ,d2))"
   ]
  },
  {
   "cell_type": "markdown",
   "id": "0344599d",
   "metadata": {},
   "source": [
    "## Question 4"
   ]
  },
  {
   "cell_type": "code",
   "execution_count": 3,
   "id": "9a1e42fc",
   "metadata": {},
   "outputs": [
    {
     "name": "stdout",
     "output_type": "stream",
     "text": [
      "The average of Joe is 2.0\n",
      "The average of John is 1.0\n",
      "The average of Susan is 2.5\n",
      "{'Joe': 2.0, 'John': 1.0, 'Susan': 2.5}\n"
     ]
    }
   ],
   "source": [
    "def f(D):\n",
    "    dict_2 ={}\n",
    "    for i in D:\n",
    "        sum_ = 0\n",
    "        for j in D[i]:\n",
    "            sum_ += j\n",
    "        dict_2[i] = sum_/len(D[i])\n",
    "        print(\"The average of\", i, \"is\", dict_2[i])\n",
    "    return dict_2\n",
    "    \n",
    "D = {\"Joe\":[1,2,3], \"John\":[1,1,1], \"Susan\":[4,1,2,3]}\n",
    "print(f(D))"
   ]
  },
  {
   "cell_type": "markdown",
   "id": "99f97d79",
   "metadata": {},
   "source": [
    "## Question 5"
   ]
  },
  {
   "cell_type": "code",
   "execution_count": 4,
   "id": "303466c8",
   "metadata": {},
   "outputs": [
    {
     "name": "stdout",
     "output_type": "stream",
     "text": [
      "d = {'Joe': 'A', 'John': 'A', 'Susan': 'A'}\n",
      "d1 = {'A': 3, 'B': 0, 'C': 0}\n"
     ]
    }
   ],
   "source": [
    "\"\"\" Method 1 \"\"\"\n",
    "\n",
    "def grades(d,d1):\n",
    "    for i in d1:\n",
    "        count = 0\n",
    "        for j in sorted(d.values()):\n",
    "            if i == j:\n",
    "                count += 1\n",
    "        d1[i] = count\n",
    "    return d1\n",
    "                \n",
    "\n",
    "d = {\"Joe\":\"A\", \"John\":\"A\", \"Susan\":\"A\"}\n",
    "d1 = {\"A\":0, \"B\":0, \"C\":0}\n",
    "print(\"d =\",d)\n",
    "print(\"d1 =\", grades(d,d1))"
   ]
  },
  {
   "cell_type": "code",
   "execution_count": 5,
   "id": "55fb0529",
   "metadata": {},
   "outputs": [
    {
     "name": "stdout",
     "output_type": "stream",
     "text": [
      "d = {'Joe': 'A', 'John': 'A', 'Susan': 'A'}\n",
      "d1 = {'A': 3, 'B': 0, 'C': 0}\n"
     ]
    }
   ],
   "source": [
    "\"\"\" Method 2 \"\"\"\n",
    "\n",
    "def grades(d,d1):\n",
    "    d_values = sorted(d.values()) \n",
    "    for i in d1:\n",
    "        d1[i] = d_values.count(i)\n",
    "    return d1\n",
    "                \n",
    "    \n",
    "d = {\"Joe\":\"A\", \"John\":\"A\", \"Susan\":\"A\"}\n",
    "d1 = {\"A\":0, \"B\":0, \"C\":0}\n",
    "print(\"d =\",d)\n",
    "print(\"d1 =\", grades(d,d1))"
   ]
  },
  {
   "cell_type": "markdown",
   "id": "44f669cf",
   "metadata": {},
   "source": [
    "## Question 6"
   ]
  },
  {
   "cell_type": "code",
   "execution_count": 6,
   "id": "5f56c44c",
   "metadata": {},
   "outputs": [
    {
     "name": "stdout",
     "output_type": "stream",
     "text": [
      "The list L is [5, 100, 21, 5, 1, 3, 10, 10, 3, 10, 5]\n",
      "The dictionary is {5: 3, 100: 1, 21: 1, 1: 1, 3: 2, 10: 3}\n",
      "The number(s) [5, 10] occurs more frequently and its frequency is 3\n"
     ]
    }
   ],
   "source": [
    "\"\"\" Method 1 - with 2 for loops \"\"\"\n",
    "\n",
    "def mostFrequent(L):\n",
    "    # Part A\n",
    "    d = {}\n",
    "    for i in L:\n",
    "        d[i] = L.count(i)\n",
    "        \n",
    "    print(\"The list L is\", L)\n",
    "    print(\"The dictionary is\", d)\n",
    "        \n",
    "    # Part B\n",
    "    freq = max(d.values())\n",
    "    mFreq_l = []\n",
    "    for j in d:\n",
    "        if d[j] == freq:\n",
    "            mFreq_l.append(j)\n",
    "    \n",
    "    print(\"The number(s)\", mFreq_l, \"occurs more frequently and its frequency is\", freq)\n",
    "    \n",
    "L = [5, 100, 21, 5, 1, 3, 10, 10, 3, 10, 5]\n",
    "mostFrequent(L)"
   ]
  },
  {
   "cell_type": "code",
   "execution_count": 7,
   "id": "6ac4bce2",
   "metadata": {},
   "outputs": [
    {
     "name": "stdout",
     "output_type": "stream",
     "text": [
      "The list L is [5, 100, 21, 5, 1, 3, 10, 10, 3, 10, 5]\n",
      "The dictionary is {5: 3, 100: 1, 21: 1, 1: 1, 3: 2, 10: 3}\n",
      "The number(s) [5, 10] occurs more frequently and its frequency is 3\n"
     ]
    }
   ],
   "source": [
    "\"\"\" Method 2 - with single for loop \"\"\"\n",
    "\n",
    "def mostFrequent(L):\n",
    "    d = {}\n",
    "    mFreq_l = []\n",
    "    freq = 0\n",
    "    for i in L:\n",
    "        d[i] = L.count(i)\n",
    "        if d[i] > freq:\n",
    "            mFreq_l = [i]\n",
    "            freq = d[i]\n",
    "        elif d[i] == freq and i not in mFreq_l:\n",
    "            mFreq_l.append(i)\n",
    "        \n",
    "    print(\"The list L is\", L)\n",
    "    print(\"The dictionary is\", d)\n",
    "    print(\"The number(s)\", mFreq_l, \"occurs more frequently and its frequency is\", freq)\n",
    "    \n",
    "L = [5, 100, 21, 5, 1, 3, 10, 10, 3, 10, 5]\n",
    "mostFrequent(L)"
   ]
  }
 ],
 "metadata": {
  "kernelspec": {
   "display_name": "Python 3 (ipykernel)",
   "language": "python",
   "name": "python3"
  },
  "language_info": {
   "codemirror_mode": {
    "name": "ipython",
    "version": 3
   },
   "file_extension": ".py",
   "mimetype": "text/x-python",
   "name": "python",
   "nbconvert_exporter": "python",
   "pygments_lexer": "ipython3",
   "version": "3.9.9"
  }
 },
 "nbformat": 4,
 "nbformat_minor": 5
}
