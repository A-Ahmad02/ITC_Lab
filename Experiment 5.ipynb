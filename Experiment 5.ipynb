{
 "cells": [
  {
   "cell_type": "markdown",
   "id": "5abae504",
   "metadata": {},
   "source": [
    "# Experiment 5 "
   ]
  },
  {
   "cell_type": "markdown",
   "id": "e8286ed8",
   "metadata": {},
   "source": [
    "## Question 1"
   ]
  },
  {
   "cell_type": "code",
   "execution_count": 1,
   "id": "436cf75e",
   "metadata": {},
   "outputs": [
    {
     "name": "stdout",
     "output_type": "stream",
     "text": [
      "1\n",
      "22\n",
      "333\n",
      "4444\n",
      "55555\n"
     ]
    }
   ],
   "source": [
    "for i in range(1,6,1):\n",
    "    for j in range(0,i,1):\n",
    "        print(i, end=\"\") # prints i, i number of times\n",
    "    print(\"\")"
   ]
  },
  {
   "cell_type": "markdown",
   "id": "bee65d87",
   "metadata": {},
   "source": [
    "## Question 2"
   ]
  },
  {
   "cell_type": "code",
   "execution_count": 2,
   "id": "c6240ac3",
   "metadata": {},
   "outputs": [
    {
     "name": "stdout",
     "output_type": "stream",
     "text": [
      "( 1 , 1 ) ( 1 , 2 ) ( 1 , 3 ) \n",
      "( 2 , 1 ) ( 2 , 2 ) ( 2 , 3 ) \n",
      "( 3 , 1 ) ( 3 , 2 ) ( 3 , 3 ) \n"
     ]
    }
   ],
   "source": [
    "for x in range(1,4,1):\n",
    "    for y in range(1,4,1):\n",
    "        print(\"(\", x, \",\", y, \")\", end=\" \")\n",
    "    print(\"\")"
   ]
  },
  {
   "cell_type": "markdown",
   "id": "6abdccd8",
   "metadata": {},
   "source": [
    "## Question 3"
   ]
  },
  {
   "cell_type": "code",
   "execution_count": 3,
   "id": "a425b184",
   "metadata": {
    "scrolled": true
   },
   "outputs": [
    {
     "name": "stdout",
     "output_type": "stream",
     "text": [
      "Enter no. of rows of pyramid:3\n",
      "  *\n",
      " ***\n",
      "*****\n"
     ]
    }
   ],
   "source": [
    "\"\"\" Prints a pyramid of the same no. of rows as user input_Method 1 \"\"\"\n",
    "\n",
    "nRows = int(input(\"Enter no. of rows of pyramid:\"))\n",
    "\n",
    "for i in range(0,nRows,1):\n",
    "    for x in range(1,nRows-i,1):\n",
    "        print(\" \", end=\"\")\n",
    "    for y in range(0,(1+(2*i)),1):\n",
    "        print(\"*\", end=\"\")\n",
    "    print(\"\")"
   ]
  },
  {
   "cell_type": "code",
   "execution_count": 4,
   "id": "8180f126",
   "metadata": {
    "scrolled": true
   },
   "outputs": [
    {
     "name": "stdout",
     "output_type": "stream",
     "text": [
      "Enter no. of rows of pyramid:7\n",
      "      *\n",
      "     ***\n",
      "    *****\n",
      "   *******\n",
      "  *********\n",
      " ***********\n",
      "*************\n"
     ]
    }
   ],
   "source": [
    "\"\"\" Prints a pyramid of the same no. of rows as user input_Method 2 \"\"\"\n",
    "\n",
    "nRows = int(input(\"Enter no. of rows of pyramid:\"))\n",
    "\n",
    "a = 1\n",
    "for i in range(0,nRows,1):\n",
    "    for x in range(1,nRows-i,1):\n",
    "        print(\" \", end=\"\")\n",
    "    for y in range(0,a,1):\n",
    "        print(\"*\", end=\"\")\n",
    "    print(\"\")\n",
    "    a += 2"
   ]
  },
  {
   "cell_type": "markdown",
   "id": "0344599d",
   "metadata": {},
   "source": [
    "## Question 4"
   ]
  },
  {
   "cell_type": "code",
   "execution_count": 5,
   "id": "9a1e42fc",
   "metadata": {},
   "outputs": [
    {
     "name": "stdout",
     "output_type": "stream",
     "text": [
      "Enter no. of rows of diamond:9\n",
      "    *\n",
      "   ***\n",
      "  *****\n",
      " *******\n",
      "*********\n",
      " *******\n",
      "  *****\n",
      "   ***\n",
      "    *\n"
     ]
    }
   ],
   "source": [
    "\"\"\" Prints a diamond of the same no. of rows as user input_Method 1 \n",
    "    Does not account for Even number of rows \"\"\"\n",
    "\n",
    "nRows = int(input(\"Enter no. of rows of diamond:\"))\n",
    "\n",
    "for i in range(0,nRows ,1):\n",
    "    # Prints space\n",
    "    if i < (nRows)/2:\n",
    "        for x in range(0,((nRows-1)//2)-i,1):\n",
    "            print(\" \", end=\"\")\n",
    "    else:\n",
    "        for x in range(0,i-((nRows-1)//2),1):\n",
    "            print(\" \", end=\"\")\n",
    "            \n",
    "    # Prints Asterik\n",
    "    if i < (nRows)/2: \n",
    "        for y in range(0,(1+(2*i)),1):\n",
    "            print(\"*\", end=\"\")\n",
    "    else:\n",
    "        for y in range(0,(2*(nRows-i)-1),1):\n",
    "            print(\"*\", end=\"\")\n",
    "            \n",
    "    print(\"\") # Starts new line"
   ]
  },
  {
   "cell_type": "code",
   "execution_count": 6,
   "id": "ff445aba",
   "metadata": {},
   "outputs": [
    {
     "name": "stdout",
     "output_type": "stream",
     "text": [
      "Enter no. of rows of diamond:8\n",
      "    *\n",
      "   ***\n",
      "  *****\n",
      " *******\n",
      " *******\n",
      "  *****\n",
      "   ***\n",
      "    *\n"
     ]
    }
   ],
   "source": [
    "\"\"\" Prints a diamond of the same no. of rows as user input_Method 2\n",
    "    Accounts for Even and Odd number on rows of diamond \"\"\"\n",
    "\n",
    "nRows = int(input(\"Enter no. of rows of diamond:\"))\n",
    "\n",
    "# Changes range for even or odd no. of rows\n",
    "if nRows % 2 == 0:\n",
    "    rng = nRows//2\n",
    "else:\n",
    "    rng = (nRows//2)+1\n",
    "    \n",
    "# Prints Upper part of the diamond\n",
    "for i in range(0,rng,1):\n",
    "    for x in range(0,rng-i,1):\n",
    "        print(' ',end='')\n",
    "    for x in range(0,1+(2*i),1):\n",
    "        print('*',end='')\n",
    "    print(\"\")\n",
    "    \n",
    "# Prints lower part of the diamond\n",
    "for i in range(rng-1,-1,-1):\n",
    "    for x in range(0,rng-i,1):\n",
    "        print(' ',end='')\n",
    "    \n",
    "    for x in range(0,1+(2*i),1):\n",
    "        print('*',end='')\n",
    "    print(\"\")"
   ]
  },
  {
   "cell_type": "code",
   "execution_count": 12,
   "id": "085c3ab7",
   "metadata": {},
   "outputs": [
    {
     "name": "stdout",
     "output_type": "stream",
     "text": [
      "Enter no. of rows of diamond:5\n",
      " *****\n",
      "  ***\n",
      "   *\n",
      "  ***\n",
      " *****\n"
     ]
    }
   ],
   "source": [
    "nRows = int(input(\"Enter no. of rows of diamond:\"))\n",
    "\n",
    "# Changes range for even or odd no. of rows\n",
    "if nRows % 2 == 0:\n",
    "    rng = nRows//2\n",
    "else:\n",
    "    rng = (nRows//2)+1\n",
    "    \n",
    "# Prints lower part of the diamond\n",
    "for i in range(rng-1,-1,-1):\n",
    "    for x in range(0,rng-i,1):\n",
    "        print(' ',end='')\n",
    "    \n",
    "    for x in range(0,1+(2*i),1):\n",
    "        print('*',end='')\n",
    "    print(\"\")    \n",
    "    \n",
    "# Prints Upper part of the diamond\n",
    "for i in range(1,rng,1):\n",
    "    for x in range(0,rng-i,1):\n",
    "        print(' ',end='')\n",
    "    for x in range(0,1+(2*i),1):\n",
    "        print('*',end='')\n",
    "    print(\"\")\n",
    "    \n"
   ]
  },
  {
   "cell_type": "markdown",
   "id": "99f97d79",
   "metadata": {},
   "source": [
    "## Question 5"
   ]
  },
  {
   "cell_type": "markdown",
   "id": "a711d780",
   "metadata": {},
   "source": [
    "As soon as the 2nd for-loop ends for the very first time:\n",
    "- a = 4 * 0.395 = 1.58\n",
    "    As z loop runs 4 times\n",
    "- b = 1 * 0.495 = 0.495\n",
    "    As y loop runs 1 time\n",
    "- c = 0\n",
    "    As x loop does not even run 1 time completely\n",
    "- x = 1\n",
    "- y = 1\n",
    "- z = 4\n",
    "\n",
    "After the program runs completely:\n",
    "- a = 16 * 0.395 = 6.32\n",
    "    As z loop runs (2x2x4=) 16 times\n",
    "- b = 4 * 0.495 = 1.98\n",
    "    As y loop runs (2x2=) 4 times\n",
    "- c = 2 * 0.595 = 1.19\n",
    "    As x loop runs (2=) 2 times\n",
    "- x = 2\n",
    "- y = 2\n",
    "- z = 4"
   ]
  }
 ],
 "metadata": {
  "kernelspec": {
   "display_name": "Python 3 (ipykernel)",
   "language": "python",
   "name": "python3"
  },
  "language_info": {
   "codemirror_mode": {
    "name": "ipython",
    "version": 3
   },
   "file_extension": ".py",
   "mimetype": "text/x-python",
   "name": "python",
   "nbconvert_exporter": "python",
   "pygments_lexer": "ipython3",
   "version": "3.9.9"
  }
 },
 "nbformat": 4,
 "nbformat_minor": 5
}
