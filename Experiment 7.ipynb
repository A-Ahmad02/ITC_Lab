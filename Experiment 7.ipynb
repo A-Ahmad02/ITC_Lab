{
 "cells": [
  {
   "cell_type": "markdown",
   "id": "5abae504",
   "metadata": {},
   "source": [
    "# Experiment 7"
   ]
  },
  {
   "cell_type": "markdown",
   "id": "e8286ed8",
   "metadata": {},
   "source": [
    "## Question 1"
   ]
  },
  {
   "cell_type": "markdown",
   "id": "c18e3c2f",
   "metadata": {},
   "source": [
    "### Code 1\n",
    "- for e in L1 means L1[0:len(L1):0], so what the for loop actually iterates is the index\n",
    "- As the list L1 is mutated all elements are not iterated\n",
    "- Step   index   e   e in L2   new L1\n",
    "-    1       0   1       yes   [2,3,4]\n",
    "-    2       1   3        no   [2,3,4]\n",
    "-    3       2   4        no   [2,3,4]\n",
    "\n",
    "### Code 2\n",
    "- range(len(a)) means index iterates this list [0, 1, 2, 3, 4]\n",
    "- Step   index   a[index]   remove   a\n",
    "-    1       0          2       no   [2, 3, 5, 3, 7]\n",
    "-    2       1          3      yes   [2, 5, 3, 7]\n",
    "-    3       2          3      yes   [2, 5, 7]\n",
    "-    4       3          Index Error           "
   ]
  },
  {
   "cell_type": "markdown",
   "id": "bee65d87",
   "metadata": {},
   "source": [
    "## Question 2"
   ]
  },
  {
   "cell_type": "code",
   "execution_count": 1,
   "id": "c6240ac3",
   "metadata": {},
   "outputs": [
    {
     "name": "stdout",
     "output_type": "stream",
     "text": [
      "The sum is 3 \n",
      "The difference is -1 \n",
      "The product is 2 \n",
      "The quotient is 0.5\n"
     ]
    }
   ],
   "source": [
    "def calc(a,b):\n",
    "    return (a+b,a-b,a*b,a/b)\n",
    "a = 1\n",
    "b = 2\n",
    "(s,d,p,q) = calc(a,b)\n",
    "print(\"The sum is\", s, \"\\nThe difference is\", d, \"\\nThe product is\", p, \"\\nThe quotient is\", q)"
   ]
  },
  {
   "cell_type": "markdown",
   "id": "6abdccd8",
   "metadata": {},
   "source": [
    "## Question 3 A"
   ]
  },
  {
   "cell_type": "code",
   "execution_count": 2,
   "id": "a425b184",
   "metadata": {},
   "outputs": [
    {
     "name": "stdout",
     "output_type": "stream",
     "text": [
      "The sum of [1, 2, 3, 6] and [3, 3, 3, 3] is [4, 5, 6, 9]\n"
     ]
    }
   ],
   "source": [
    "def add_lists(L1,L2):\n",
    "    L3 = []\n",
    "    for i in range(len(L1)):\n",
    "        L3.append(L1[i] + L2[i])\n",
    "    print(\"The sum of\", L1, \"and\", L2, \"is\", L3)\n",
    "    \n",
    "L1 = [1, 2, 3, 6]\n",
    "L2 = [3, 3, 3, 3]\n",
    "add_lists(L1,L2)"
   ]
  },
  {
   "cell_type": "markdown",
   "id": "4293ca94",
   "metadata": {},
   "source": [
    "## Question 3 B"
   ]
  },
  {
   "cell_type": "code",
   "execution_count": 3,
   "id": "bbe2abdd",
   "metadata": {},
   "outputs": [
    {
     "name": "stdout",
     "output_type": "stream",
     "text": [
      "enter:1\n",
      "\n",
      "enter:5\n",
      "\n",
      "enter:3\n",
      "\n",
      "enter:end\n",
      "\n",
      "The list is [1, 5, 3]\n"
     ]
    }
   ],
   "source": [
    "L = []\n",
    "while True:\n",
    "    element = input(\"enter:\")\n",
    "    print()\n",
    "    if element == \"end\":\n",
    "        break\n",
    "    L.append(int(element))\n",
    "print(\"The list is\", L)"
   ]
  },
  {
   "cell_type": "markdown",
   "id": "581569b0",
   "metadata": {},
   "source": [
    "## Question 3 C"
   ]
  },
  {
   "cell_type": "code",
   "execution_count": 4,
   "id": "1f8222e8",
   "metadata": {},
   "outputs": [
    {
     "name": "stdout",
     "output_type": "stream",
     "text": [
      "Enter elements of list L1\n",
      "enter:1\n",
      "\n",
      "enter:2\n",
      "\n",
      "enter:3\n",
      "\n",
      "enter:6\n",
      "\n",
      "enter:end\n",
      "\n",
      "Enter elements of list L2\n",
      "enter:3\n",
      "\n",
      "enter:3\n",
      "\n",
      "enter:3\n",
      "\n",
      "enter:3\n",
      "\n",
      "enter:end\n",
      "\n",
      "The sum of [1, 2, 3, 6] and [3, 3, 3, 3] is [4, 5, 6, 9]\n"
     ]
    }
   ],
   "source": [
    "def create_list():\n",
    "    L = []\n",
    "    while True:\n",
    "        element = input(\"enter:\")\n",
    "        print()\n",
    "        if element == \"end\":\n",
    "            break\n",
    "        L.append(int(element))\n",
    "    return L\n",
    "\n",
    "def add_lists(L1,L2):\n",
    "    L3 = []\n",
    "    for i in range(len(L1)):\n",
    "        L3.append(L1[i] + L2[i])\n",
    "    print(\"The sum of\", L1, \"and\", L2, \"is\", L3)\n",
    "    \n",
    "print(\"Enter elements of list L1\")\n",
    "L1 = create_list()\n",
    "print(\"Enter elements of list L2\")\n",
    "L2 = create_list()\n",
    "add_lists(L1,L2)"
   ]
  },
  {
   "cell_type": "markdown",
   "id": "0344599d",
   "metadata": {},
   "source": [
    "## Question 4"
   ]
  },
  {
   "cell_type": "code",
   "execution_count": 4,
   "id": "9a1e42fc",
   "metadata": {},
   "outputs": [
    {
     "name": "stdout",
     "output_type": "stream",
     "text": [
      "[8, 10, 12, 15]\n"
     ]
    }
   ],
   "source": [
    "def multiplyPolynomials(p1, p2):\n",
    "    p3 = [0]*(len(p1)+len(p2)-1)\n",
    "    for i in range(0,len(p1),1):\n",
    "        for j in range(0,len(p2),1):\n",
    "            p3[i+j] += (p1[i] * p2[j])\n",
    "    return p3\n",
    "    \n",
    "print(multiplyPolynomials([2,0,3], [4,5]))"
   ]
  },
  {
   "cell_type": "markdown",
   "id": "99f97d79",
   "metadata": {},
   "source": [
    "## Question 5"
   ]
  },
  {
   "cell_type": "code",
   "execution_count": 6,
   "id": "303466c8",
   "metadata": {},
   "outputs": [
    {
     "name": "stdout",
     "output_type": "stream",
     "text": [
      "The square of [[1, 2], [3, 4]] is [[1, 4], [9, 16]]\n"
     ]
    }
   ],
   "source": [
    "def square(l):\n",
    "    L = [([0]*len(l[0])) for i in range(0,len(l),1)]\n",
    "    \n",
    "    for row in range(0,len(l),1):\n",
    "        for col in range(0,len(l[0]),1):\n",
    "            L[row][col] = (l[row][col])**2\n",
    "    print(\"The square of\", l, \"is\", L)\n",
    "    \n",
    "l1 = [[1,2],[3,4]]\n",
    "square(l1)"
   ]
  },
  {
   "cell_type": "markdown",
   "id": "44f669cf",
   "metadata": {},
   "source": [
    "## Question 6"
   ]
  },
  {
   "cell_type": "code",
   "execution_count": 7,
   "id": "c7dc1302",
   "metadata": {
    "scrolled": true
   },
   "outputs": [
    {
     "name": "stdout",
     "output_type": "stream",
     "text": [
      "[[19, 22], [43, 50]]\n"
     ]
    }
   ],
   "source": [
    "def matrixMultiply(m1, m2):\n",
    "    if len(m1[0]) != len(m2):\n",
    "        return\n",
    "    L = [([0]*len(m2[0])) for i in range(0,len(m1),1)]\n",
    "    for i in range(0,len(m1),1):\n",
    "        for j in range(0,len(m2[0]),1):\n",
    "            for k in range(len(m2)):\n",
    "                L[i][j] += m1[i][k] * m2[k][j]\n",
    "    return L\n",
    "\n",
    "l1 = [[1,2],[3,4]]\n",
    "l2 = [[5,6],[7,8]]\n",
    "print(matrixMultiply(l1, l2))"
   ]
  },
  {
   "cell_type": "code",
   "execution_count": 13,
   "id": "15745db6",
   "metadata": {
    "scrolled": true
   },
   "outputs": [
    {
     "name": "stdout",
     "output_type": "stream",
     "text": [
      "[[19, 22], [43, 50]]\n"
     ]
    }
   ],
   "source": [
    "m1 = [[1,2],[3,4]]\n",
    "m2 = [[5,6],[7,8]]\n",
    "L = [([0]*len(m2[0])) for i in range(0,len(m1),1)]\n",
    "for i in range(0,len(m1),1):\n",
    "    for j in range (0,len(m2[0]),1):\n",
    "        for k in range (len(m2)):\n",
    "            L[i][j]+=m1[i][k]*m2[k][j]\n",
    "print(L)"
   ]
  },
  {
   "cell_type": "code",
   "execution_count": 9,
   "id": "06b84990",
   "metadata": {},
   "outputs": [
    {
     "name": "stdout",
     "output_type": "stream",
     "text": [
      "[[19, 22], [43, 50]]\n"
     ]
    }
   ],
   "source": [
    "def matrixMultiply(m1,m2):\n",
    "    if (len(m2[0])) != len(m1):\n",
    "        return\n",
    "    L3=[([0]*len(m2[0])) for x in range(0,len(m1),1)]\n",
    "    for x in range (0,len(m1),1):\n",
    "        for y in range(0,len(m2[0]),1):\n",
    "            for z in range (0,len(m2),1):\n",
    "                L3[x][y] += m1[x][z]*m2[z][y]\n",
    "    return L3\n",
    "l1=[[1,2],[3,4]]\n",
    "l2=[[5,6],[7,8]]\n",
    "print(matrixMultiply(l1, l2))"
   ]
  },
  {
   "cell_type": "code",
   "execution_count": null,
   "id": "c42b99ad",
   "metadata": {},
   "outputs": [],
   "source": []
  }
 ],
 "metadata": {
  "kernelspec": {
   "display_name": "Python 3 (ipykernel)",
   "language": "python",
   "name": "python3"
  },
  "language_info": {
   "codemirror_mode": {
    "name": "ipython",
    "version": 3
   },
   "file_extension": ".py",
   "mimetype": "text/x-python",
   "name": "python",
   "nbconvert_exporter": "python",
   "pygments_lexer": "ipython3",
   "version": "3.9.9"
  }
 },
 "nbformat": 4,
 "nbformat_minor": 5
}
