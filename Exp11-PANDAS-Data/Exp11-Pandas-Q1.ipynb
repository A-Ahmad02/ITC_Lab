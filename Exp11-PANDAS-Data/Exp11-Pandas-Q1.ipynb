{
 "cells": [
  {
   "cell_type": "code",
   "execution_count": 2,
   "metadata": {},
   "outputs": [],
   "source": [
    "#Read csv-format file"
   ]
  },
  {
   "cell_type": "code",
   "execution_count": 2,
   "metadata": {},
   "outputs": [],
   "source": [
    "#Renaming columns\n",
    "#Display first 5 lines"
   ]
  },
  {
   "cell_type": "code",
   "execution_count": 343,
   "metadata": {},
   "outputs": [
    {
     "data": {
      "text/plain": [
       "3"
      ]
     },
     "execution_count": 343,
     "metadata": {},
     "output_type": "execute_result"
    }
   ],
   "source": [
    " # count no. of unique items"
   ]
  },
  {
   "cell_type": "code",
   "execution_count": 344,
   "metadata": {},
   "outputs": [
    {
     "data": {
      "text/plain": [
       "array(['Lahore', 'Kala Shah Kaku', 'Narowal'], dtype=object)"
      ]
     },
     "execution_count": 344,
     "metadata": {},
     "output_type": "execute_result"
    }
   ],
   "source": [
    "# Display the unique items"
   ]
  },
  {
   "cell_type": "code",
   "execution_count": 345,
   "metadata": {},
   "outputs": [
    {
     "name": "stdout",
     "output_type": "stream",
     "text": [
      "Names = 10\n",
      "Campus = 3\n",
      "Section = 2\n",
      "Physics Marks = 9\n",
      "Math Marks = 8\n",
      "Time Stamp = 10\n"
     ]
    }
   ],
   "source": [
    "#Iteration over the column names"
   ]
  },
  {
   "cell_type": "code",
   "execution_count": 346,
   "metadata": {},
   "outputs": [
    {
     "name": "stdout",
     "output_type": "stream",
     "text": [
      "['John' 'Jones' 'Paul' 'linda' 'Jimmy' 'Carl' 'Hope' 'Cooper' 'Daniel'\n",
      " 'Lee']\n",
      "['Lahore' 'Kala Shah Kaku' 'Narowal']\n",
      "['C' 'A']\n",
      "[15. 25. 12. 13. 50. nan 40. 20. 55. 35.]\n",
      "[75. nan 43. 35.  8. 12. 24. 25. 30.]\n",
      "['2022-01-27T13:01:57.117048125Z' '2022-01-27T13:01:58.044469Z'\n",
      " '2022-01-27T13:01:59.569228375Z' '2022-01-27T13:02:02.231623500Z'\n",
      " '2022-01-27T13:02:02.348720625Z' '2022-01-27T13:02:06.877348750Z'\n",
      " '2022-01-27T13:02:07.379538250Z' '2022-01-27T13:02:08.087371750Z'\n",
      " '2022-01-27T13:02:08.614640250Z' '2022-01-27T13:02:08.840183500Z']\n"
     ]
    }
   ],
   "source": [
    "#Iteration over the column names"
   ]
  },
  {
   "cell_type": "code",
   "execution_count": 347,
   "metadata": {},
   "outputs": [
    {
     "data": {
      "text/plain": [
       "Names            10\n",
       "Campus           10\n",
       "Section          10\n",
       "Physics Marks     9\n",
       "Math Marks        8\n",
       "Time Stamp       10\n",
       "dtype: int64"
      ]
     },
     "execution_count": 347,
     "metadata": {},
     "output_type": "execute_result"
    }
   ],
   "source": [
    "# count no. of items in each column"
   ]
  },
  {
   "cell_type": "code",
   "execution_count": 348,
   "metadata": {},
   "outputs": [
    {
     "data": {
      "text/html": [
       "<div>\n",
       "<style scoped>\n",
       "    .dataframe tbody tr th:only-of-type {\n",
       "        vertical-align: middle;\n",
       "    }\n",
       "\n",
       "    .dataframe tbody tr th {\n",
       "        vertical-align: top;\n",
       "    }\n",
       "\n",
       "    .dataframe thead th {\n",
       "        text-align: right;\n",
       "    }\n",
       "</style>\n",
       "<table border=\"1\" class=\"dataframe\">\n",
       "  <thead>\n",
       "    <tr style=\"text-align: right;\">\n",
       "      <th></th>\n",
       "      <th>Names</th>\n",
       "      <th>Campus</th>\n",
       "      <th>Section</th>\n",
       "      <th>Physics Marks</th>\n",
       "      <th>Math Marks</th>\n",
       "      <th>Time Stamp</th>\n",
       "    </tr>\n",
       "  </thead>\n",
       "  <tbody>\n",
       "    <tr>\n",
       "      <th>0</th>\n",
       "      <td>John</td>\n",
       "      <td>LHR</td>\n",
       "      <td>C</td>\n",
       "      <td>15.0</td>\n",
       "      <td>75.0</td>\n",
       "      <td>2022-01-27T13:01:57.117048125Z</td>\n",
       "    </tr>\n",
       "    <tr>\n",
       "      <th>1</th>\n",
       "      <td>Jones</td>\n",
       "      <td>LHR</td>\n",
       "      <td>C</td>\n",
       "      <td>25.0</td>\n",
       "      <td>NaN</td>\n",
       "      <td>2022-01-27T13:01:58.044469Z</td>\n",
       "    </tr>\n",
       "    <tr>\n",
       "      <th>2</th>\n",
       "      <td>Paul</td>\n",
       "      <td>LHR</td>\n",
       "      <td>C</td>\n",
       "      <td>12.0</td>\n",
       "      <td>43.0</td>\n",
       "      <td>2022-01-27T13:01:59.569228375Z</td>\n",
       "    </tr>\n",
       "    <tr>\n",
       "      <th>3</th>\n",
       "      <td>linda</td>\n",
       "      <td>LHR</td>\n",
       "      <td>A</td>\n",
       "      <td>13.0</td>\n",
       "      <td>35.0</td>\n",
       "      <td>2022-01-27T13:02:02.231623500Z</td>\n",
       "    </tr>\n",
       "    <tr>\n",
       "      <th>4</th>\n",
       "      <td>Jimmy</td>\n",
       "      <td>KSK</td>\n",
       "      <td>A</td>\n",
       "      <td>50.0</td>\n",
       "      <td>8.0</td>\n",
       "      <td>2022-01-27T13:02:02.348720625Z</td>\n",
       "    </tr>\n",
       "  </tbody>\n",
       "</table>\n",
       "</div>"
      ],
      "text/plain": [
       "   Names Campus Section  Physics Marks  Math Marks  \\\n",
       "0   John    LHR       C           15.0        75.0   \n",
       "1  Jones    LHR       C           25.0         NaN   \n",
       "2   Paul    LHR       C           12.0        43.0   \n",
       "3  linda    LHR       A           13.0        35.0   \n",
       "4  Jimmy    KSK       A           50.0         8.0   \n",
       "\n",
       "                       Time Stamp  \n",
       "0  2022-01-27T13:01:57.117048125Z  \n",
       "1     2022-01-27T13:01:58.044469Z  \n",
       "2  2022-01-27T13:01:59.569228375Z  \n",
       "3  2022-01-27T13:02:02.231623500Z  \n",
       "4  2022-01-27T13:02:02.348720625Z  "
      ]
     },
     "execution_count": 348,
     "metadata": {},
     "output_type": "execute_result"
    }
   ],
   "source": [
    "#replace items of a column"
   ]
  },
  {
   "cell_type": "code",
   "execution_count": 349,
   "metadata": {},
   "outputs": [
    {
     "data": {
      "text/plain": [
       "10"
      ]
     },
     "execution_count": 349,
     "metadata": {},
     "output_type": "execute_result"
    }
   ],
   "source": [
    "# count total no of items in a specific column"
   ]
  },
  {
   "cell_type": "code",
   "execution_count": 350,
   "metadata": {},
   "outputs": [
    {
     "data": {
      "text/plain": [
       "LHR    5\n",
       "NWL    3\n",
       "KSK    2\n",
       "Name: Campus, dtype: int64"
      ]
     },
     "execution_count": 350,
     "metadata": {},
     "output_type": "execute_result"
    }
   ],
   "source": [
    "# count no of each item in a specific column"
   ]
  },
  {
   "cell_type": "code",
   "execution_count": 351,
   "metadata": {},
   "outputs": [
    {
     "data": {
      "text/html": [
       "<div>\n",
       "<style scoped>\n",
       "    .dataframe tbody tr th:only-of-type {\n",
       "        vertical-align: middle;\n",
       "    }\n",
       "\n",
       "    .dataframe tbody tr th {\n",
       "        vertical-align: top;\n",
       "    }\n",
       "\n",
       "    .dataframe thead th {\n",
       "        text-align: right;\n",
       "    }\n",
       "</style>\n",
       "<table border=\"1\" class=\"dataframe\">\n",
       "  <thead>\n",
       "    <tr style=\"text-align: right;\">\n",
       "      <th></th>\n",
       "      <th>Names</th>\n",
       "      <th>Campus</th>\n",
       "      <th>Section</th>\n",
       "      <th>Physics Marks</th>\n",
       "      <th>Math Marks</th>\n",
       "      <th>Time Stamp</th>\n",
       "      <th>cmp-sec</th>\n",
       "    </tr>\n",
       "  </thead>\n",
       "  <tbody>\n",
       "    <tr>\n",
       "      <th>0</th>\n",
       "      <td>John</td>\n",
       "      <td>LHR</td>\n",
       "      <td>C</td>\n",
       "      <td>15.0</td>\n",
       "      <td>75.0</td>\n",
       "      <td>2022-01-27T13:01:57.117048125Z</td>\n",
       "      <td>LHR-C</td>\n",
       "    </tr>\n",
       "    <tr>\n",
       "      <th>1</th>\n",
       "      <td>Jones</td>\n",
       "      <td>LHR</td>\n",
       "      <td>C</td>\n",
       "      <td>25.0</td>\n",
       "      <td>NaN</td>\n",
       "      <td>2022-01-27T13:01:58.044469Z</td>\n",
       "      <td>LHR-C</td>\n",
       "    </tr>\n",
       "    <tr>\n",
       "      <th>2</th>\n",
       "      <td>Paul</td>\n",
       "      <td>LHR</td>\n",
       "      <td>C</td>\n",
       "      <td>12.0</td>\n",
       "      <td>43.0</td>\n",
       "      <td>2022-01-27T13:01:59.569228375Z</td>\n",
       "      <td>LHR-C</td>\n",
       "    </tr>\n",
       "    <tr>\n",
       "      <th>3</th>\n",
       "      <td>linda</td>\n",
       "      <td>LHR</td>\n",
       "      <td>A</td>\n",
       "      <td>13.0</td>\n",
       "      <td>35.0</td>\n",
       "      <td>2022-01-27T13:02:02.231623500Z</td>\n",
       "      <td>LHR-A</td>\n",
       "    </tr>\n",
       "    <tr>\n",
       "      <th>4</th>\n",
       "      <td>Jimmy</td>\n",
       "      <td>KSK</td>\n",
       "      <td>A</td>\n",
       "      <td>50.0</td>\n",
       "      <td>8.0</td>\n",
       "      <td>2022-01-27T13:02:02.348720625Z</td>\n",
       "      <td>KSK-A</td>\n",
       "    </tr>\n",
       "    <tr>\n",
       "      <th>5</th>\n",
       "      <td>Carl</td>\n",
       "      <td>KSK</td>\n",
       "      <td>A</td>\n",
       "      <td>NaN</td>\n",
       "      <td>12.0</td>\n",
       "      <td>2022-01-27T13:02:06.877348750Z</td>\n",
       "      <td>KSK-A</td>\n",
       "    </tr>\n",
       "    <tr>\n",
       "      <th>6</th>\n",
       "      <td>Hope</td>\n",
       "      <td>NWL</td>\n",
       "      <td>C</td>\n",
       "      <td>40.0</td>\n",
       "      <td>NaN</td>\n",
       "      <td>2022-01-27T13:02:07.379538250Z</td>\n",
       "      <td>NWL-C</td>\n",
       "    </tr>\n",
       "    <tr>\n",
       "      <th>7</th>\n",
       "      <td>Cooper</td>\n",
       "      <td>NWL</td>\n",
       "      <td>A</td>\n",
       "      <td>20.0</td>\n",
       "      <td>24.0</td>\n",
       "      <td>2022-01-27T13:02:08.087371750Z</td>\n",
       "      <td>NWL-A</td>\n",
       "    </tr>\n",
       "    <tr>\n",
       "      <th>8</th>\n",
       "      <td>Daniel</td>\n",
       "      <td>NWL</td>\n",
       "      <td>C</td>\n",
       "      <td>55.0</td>\n",
       "      <td>25.0</td>\n",
       "      <td>2022-01-27T13:02:08.614640250Z</td>\n",
       "      <td>NWL-C</td>\n",
       "    </tr>\n",
       "    <tr>\n",
       "      <th>9</th>\n",
       "      <td>Lee</td>\n",
       "      <td>LHR</td>\n",
       "      <td>C</td>\n",
       "      <td>35.0</td>\n",
       "      <td>30.0</td>\n",
       "      <td>2022-01-27T13:02:08.840183500Z</td>\n",
       "      <td>LHR-C</td>\n",
       "    </tr>\n",
       "  </tbody>\n",
       "</table>\n",
       "</div>"
      ],
      "text/plain": [
       "    Names Campus Section  Physics Marks  Math Marks  \\\n",
       "0    John    LHR       C           15.0        75.0   \n",
       "1   Jones    LHR       C           25.0         NaN   \n",
       "2    Paul    LHR       C           12.0        43.0   \n",
       "3   linda    LHR       A           13.0        35.0   \n",
       "4   Jimmy    KSK       A           50.0         8.0   \n",
       "5    Carl    KSK       A            NaN        12.0   \n",
       "6    Hope    NWL       C           40.0         NaN   \n",
       "7  Cooper    NWL       A           20.0        24.0   \n",
       "8  Daniel    NWL       C           55.0        25.0   \n",
       "9     Lee    LHR       C           35.0        30.0   \n",
       "\n",
       "                       Time Stamp cmp-sec  \n",
       "0  2022-01-27T13:01:57.117048125Z   LHR-C  \n",
       "1     2022-01-27T13:01:58.044469Z   LHR-C  \n",
       "2  2022-01-27T13:01:59.569228375Z   LHR-C  \n",
       "3  2022-01-27T13:02:02.231623500Z   LHR-A  \n",
       "4  2022-01-27T13:02:02.348720625Z   KSK-A  \n",
       "5  2022-01-27T13:02:06.877348750Z   KSK-A  \n",
       "6  2022-01-27T13:02:07.379538250Z   NWL-C  \n",
       "7  2022-01-27T13:02:08.087371750Z   NWL-A  \n",
       "8  2022-01-27T13:02:08.614640250Z   NWL-C  \n",
       "9  2022-01-27T13:02:08.840183500Z   LHR-C  "
      ]
     },
     "execution_count": 351,
     "metadata": {},
     "output_type": "execute_result"
    }
   ],
   "source": [
    "# creating a new column"
   ]
  },
  {
   "cell_type": "code",
   "execution_count": 352,
   "metadata": {},
   "outputs": [
    {
     "data": {
      "text/html": [
       "<div>\n",
       "<style scoped>\n",
       "    .dataframe tbody tr th:only-of-type {\n",
       "        vertical-align: middle;\n",
       "    }\n",
       "\n",
       "    .dataframe tbody tr th {\n",
       "        vertical-align: top;\n",
       "    }\n",
       "\n",
       "    .dataframe thead th {\n",
       "        text-align: right;\n",
       "    }\n",
       "</style>\n",
       "<table border=\"1\" class=\"dataframe\">\n",
       "  <thead>\n",
       "    <tr style=\"text-align: right;\">\n",
       "      <th></th>\n",
       "      <th>Physics Marks</th>\n",
       "      <th>Math Marks</th>\n",
       "      <th>Time Stamp</th>\n",
       "      <th>cmp-sec</th>\n",
       "    </tr>\n",
       "  </thead>\n",
       "  <tbody>\n",
       "    <tr>\n",
       "      <th>0</th>\n",
       "      <td>15.0</td>\n",
       "      <td>75.0</td>\n",
       "      <td>2022-01-27T13:01:57.117048125Z</td>\n",
       "      <td>LHR-C</td>\n",
       "    </tr>\n",
       "  </tbody>\n",
       "</table>\n",
       "</div>"
      ],
      "text/plain": [
       "   Physics Marks  Math Marks                      Time Stamp cmp-sec\n",
       "0           15.0        75.0  2022-01-27T13:01:57.117048125Z   LHR-C"
      ]
     },
     "execution_count": 352,
     "metadata": {},
     "output_type": "execute_result"
    }
   ],
   "source": [
    "#slicing the dataframe"
   ]
  },
  {
   "cell_type": "code",
   "execution_count": 353,
   "metadata": {},
   "outputs": [
    {
     "data": {
      "text/html": [
       "<div>\n",
       "<style scoped>\n",
       "    .dataframe tbody tr th:only-of-type {\n",
       "        vertical-align: middle;\n",
       "    }\n",
       "\n",
       "    .dataframe tbody tr th {\n",
       "        vertical-align: top;\n",
       "    }\n",
       "\n",
       "    .dataframe thead th {\n",
       "        text-align: right;\n",
       "    }\n",
       "</style>\n",
       "<table border=\"1\" class=\"dataframe\">\n",
       "  <thead>\n",
       "    <tr style=\"text-align: right;\">\n",
       "      <th></th>\n",
       "      <th>Names</th>\n",
       "      <th>cmp-sec</th>\n",
       "      <th>Physics Marks</th>\n",
       "      <th>Math Marks</th>\n",
       "    </tr>\n",
       "  </thead>\n",
       "  <tbody>\n",
       "    <tr>\n",
       "      <th>0</th>\n",
       "      <td>John</td>\n",
       "      <td>LHR-C</td>\n",
       "      <td>15.0</td>\n",
       "      <td>75.0</td>\n",
       "    </tr>\n",
       "    <tr>\n",
       "      <th>1</th>\n",
       "      <td>Jones</td>\n",
       "      <td>LHR-C</td>\n",
       "      <td>25.0</td>\n",
       "      <td>NaN</td>\n",
       "    </tr>\n",
       "    <tr>\n",
       "      <th>2</th>\n",
       "      <td>Paul</td>\n",
       "      <td>LHR-C</td>\n",
       "      <td>12.0</td>\n",
       "      <td>43.0</td>\n",
       "    </tr>\n",
       "    <tr>\n",
       "      <th>3</th>\n",
       "      <td>linda</td>\n",
       "      <td>LHR-A</td>\n",
       "      <td>13.0</td>\n",
       "      <td>35.0</td>\n",
       "    </tr>\n",
       "    <tr>\n",
       "      <th>4</th>\n",
       "      <td>Jimmy</td>\n",
       "      <td>KSK-A</td>\n",
       "      <td>50.0</td>\n",
       "      <td>8.0</td>\n",
       "    </tr>\n",
       "    <tr>\n",
       "      <th>5</th>\n",
       "      <td>Carl</td>\n",
       "      <td>KSK-A</td>\n",
       "      <td>NaN</td>\n",
       "      <td>12.0</td>\n",
       "    </tr>\n",
       "    <tr>\n",
       "      <th>6</th>\n",
       "      <td>Hope</td>\n",
       "      <td>NWL-C</td>\n",
       "      <td>40.0</td>\n",
       "      <td>NaN</td>\n",
       "    </tr>\n",
       "    <tr>\n",
       "      <th>7</th>\n",
       "      <td>Cooper</td>\n",
       "      <td>NWL-A</td>\n",
       "      <td>20.0</td>\n",
       "      <td>24.0</td>\n",
       "    </tr>\n",
       "    <tr>\n",
       "      <th>8</th>\n",
       "      <td>Daniel</td>\n",
       "      <td>NWL-C</td>\n",
       "      <td>55.0</td>\n",
       "      <td>25.0</td>\n",
       "    </tr>\n",
       "    <tr>\n",
       "      <th>9</th>\n",
       "      <td>Lee</td>\n",
       "      <td>LHR-C</td>\n",
       "      <td>35.0</td>\n",
       "      <td>30.0</td>\n",
       "    </tr>\n",
       "  </tbody>\n",
       "</table>\n",
       "</div>"
      ],
      "text/plain": [
       "    Names cmp-sec  Physics Marks  Math Marks\n",
       "0    John   LHR-C           15.0        75.0\n",
       "1   Jones   LHR-C           25.0         NaN\n",
       "2    Paul   LHR-C           12.0        43.0\n",
       "3   linda   LHR-A           13.0        35.0\n",
       "4   Jimmy   KSK-A           50.0         8.0\n",
       "5    Carl   KSK-A            NaN        12.0\n",
       "6    Hope   NWL-C           40.0         NaN\n",
       "7  Cooper   NWL-A           20.0        24.0\n",
       "8  Daniel   NWL-C           55.0        25.0\n",
       "9     Lee   LHR-C           35.0        30.0"
      ]
     },
     "execution_count": 353,
     "metadata": {},
     "output_type": "execute_result"
    }
   ],
   "source": [
    "#rearranging the columns "
   ]
  },
  {
   "cell_type": "code",
   "execution_count": 354,
   "metadata": {},
   "outputs": [
    {
     "name": "stdout",
     "output_type": "stream",
     "text": [
      "55.0\n",
      "12.0\n",
      "29.444444444444443\n"
     ]
    },
    {
     "data": {
      "text/html": [
       "<div>\n",
       "<style scoped>\n",
       "    .dataframe tbody tr th:only-of-type {\n",
       "        vertical-align: middle;\n",
       "    }\n",
       "\n",
       "    .dataframe tbody tr th {\n",
       "        vertical-align: top;\n",
       "    }\n",
       "\n",
       "    .dataframe thead th {\n",
       "        text-align: right;\n",
       "    }\n",
       "</style>\n",
       "<table border=\"1\" class=\"dataframe\">\n",
       "  <thead>\n",
       "    <tr style=\"text-align: right;\">\n",
       "      <th></th>\n",
       "      <th>Physics Marks</th>\n",
       "      <th>Math Marks</th>\n",
       "    </tr>\n",
       "  </thead>\n",
       "  <tbody>\n",
       "    <tr>\n",
       "      <th>count</th>\n",
       "      <td>9.000000</td>\n",
       "      <td>8.000000</td>\n",
       "    </tr>\n",
       "    <tr>\n",
       "      <th>mean</th>\n",
       "      <td>29.444444</td>\n",
       "      <td>31.500000</td>\n",
       "    </tr>\n",
       "    <tr>\n",
       "      <th>std</th>\n",
       "      <td>16.241237</td>\n",
       "      <td>20.942097</td>\n",
       "    </tr>\n",
       "    <tr>\n",
       "      <th>min</th>\n",
       "      <td>12.000000</td>\n",
       "      <td>8.000000</td>\n",
       "    </tr>\n",
       "    <tr>\n",
       "      <th>25%</th>\n",
       "      <td>15.000000</td>\n",
       "      <td>21.000000</td>\n",
       "    </tr>\n",
       "    <tr>\n",
       "      <th>50%</th>\n",
       "      <td>25.000000</td>\n",
       "      <td>27.500000</td>\n",
       "    </tr>\n",
       "    <tr>\n",
       "      <th>75%</th>\n",
       "      <td>40.000000</td>\n",
       "      <td>37.000000</td>\n",
       "    </tr>\n",
       "    <tr>\n",
       "      <th>max</th>\n",
       "      <td>55.000000</td>\n",
       "      <td>75.000000</td>\n",
       "    </tr>\n",
       "  </tbody>\n",
       "</table>\n",
       "</div>"
      ],
      "text/plain": [
       "       Physics Marks  Math Marks\n",
       "count       9.000000    8.000000\n",
       "mean       29.444444   31.500000\n",
       "std        16.241237   20.942097\n",
       "min        12.000000    8.000000\n",
       "25%        15.000000   21.000000\n",
       "50%        25.000000   27.500000\n",
       "75%        40.000000   37.000000\n",
       "max        55.000000   75.000000"
      ]
     },
     "execution_count": 354,
     "metadata": {},
     "output_type": "execute_result"
    }
   ],
   "source": [
    "#Find max, min and mean values of a column\n",
    "#Display statistics of all the columns\n"
   ]
  },
  {
   "cell_type": "code",
   "execution_count": 355,
   "metadata": {},
   "outputs": [
    {
     "data": {
      "text/html": [
       "<div>\n",
       "<style scoped>\n",
       "    .dataframe tbody tr th:only-of-type {\n",
       "        vertical-align: middle;\n",
       "    }\n",
       "\n",
       "    .dataframe tbody tr th {\n",
       "        vertical-align: top;\n",
       "    }\n",
       "\n",
       "    .dataframe thead th {\n",
       "        text-align: right;\n",
       "    }\n",
       "</style>\n",
       "<table border=\"1\" class=\"dataframe\">\n",
       "  <thead>\n",
       "    <tr style=\"text-align: right;\">\n",
       "      <th></th>\n",
       "      <th></th>\n",
       "      <th>Names</th>\n",
       "      <th>Physics Marks</th>\n",
       "      <th>Math Marks</th>\n",
       "      <th>Time Stamp</th>\n",
       "      <th>cmp-sec</th>\n",
       "    </tr>\n",
       "    <tr>\n",
       "      <th>Campus</th>\n",
       "      <th>Section</th>\n",
       "      <th></th>\n",
       "      <th></th>\n",
       "      <th></th>\n",
       "      <th></th>\n",
       "      <th></th>\n",
       "    </tr>\n",
       "  </thead>\n",
       "  <tbody>\n",
       "    <tr>\n",
       "      <th>KSK</th>\n",
       "      <th>A</th>\n",
       "      <td>2</td>\n",
       "      <td>1</td>\n",
       "      <td>2</td>\n",
       "      <td>2</td>\n",
       "      <td>2</td>\n",
       "    </tr>\n",
       "    <tr>\n",
       "      <th rowspan=\"2\" valign=\"top\">LHR</th>\n",
       "      <th>A</th>\n",
       "      <td>1</td>\n",
       "      <td>1</td>\n",
       "      <td>1</td>\n",
       "      <td>1</td>\n",
       "      <td>1</td>\n",
       "    </tr>\n",
       "    <tr>\n",
       "      <th>C</th>\n",
       "      <td>4</td>\n",
       "      <td>4</td>\n",
       "      <td>3</td>\n",
       "      <td>4</td>\n",
       "      <td>4</td>\n",
       "    </tr>\n",
       "    <tr>\n",
       "      <th rowspan=\"2\" valign=\"top\">NWL</th>\n",
       "      <th>A</th>\n",
       "      <td>1</td>\n",
       "      <td>1</td>\n",
       "      <td>1</td>\n",
       "      <td>1</td>\n",
       "      <td>1</td>\n",
       "    </tr>\n",
       "    <tr>\n",
       "      <th>C</th>\n",
       "      <td>2</td>\n",
       "      <td>2</td>\n",
       "      <td>1</td>\n",
       "      <td>2</td>\n",
       "      <td>2</td>\n",
       "    </tr>\n",
       "  </tbody>\n",
       "</table>\n",
       "</div>"
      ],
      "text/plain": [
       "                Names  Physics Marks  Math Marks  Time Stamp  cmp-sec\n",
       "Campus Section                                                       \n",
       "KSK    A            2              1           2           2        2\n",
       "LHR    A            1              1           1           1        1\n",
       "       C            4              4           3           4        4\n",
       "NWL    A            1              1           1           1        1\n",
       "       C            2              2           1           2        2"
      ]
     },
     "execution_count": 355,
     "metadata": {},
     "output_type": "execute_result"
    }
   ],
   "source": [
    "# grouping columns and then counting no. of items in the ungrouped columns"
   ]
  },
  {
   "cell_type": "code",
   "execution_count": 356,
   "metadata": {},
   "outputs": [
    {
     "data": {
      "text/plain": [
       "Campus  Section\n",
       "KSK     A          2\n",
       "LHR     A          1\n",
       "        C          4\n",
       "NWL     A          1\n",
       "        C          2\n",
       "Name: Names, dtype: int64"
      ]
     },
     "execution_count": 356,
     "metadata": {},
     "output_type": "execute_result"
    }
   ],
   "source": [
    "# Accessing 'Names' column in the above table"
   ]
  },
  {
   "cell_type": "code",
   "execution_count": 357,
   "metadata": {},
   "outputs": [
    {
     "data": {
      "text/plain": [
       "pandas.core.series.Series"
      ]
     },
     "execution_count": 357,
     "metadata": {},
     "output_type": "execute_result"
    }
   ],
   "source": [
    "type(t1)"
   ]
  },
  {
   "cell_type": "code",
   "execution_count": 358,
   "metadata": {},
   "outputs": [
    {
     "data": {
      "text/html": [
       "<div>\n",
       "<style scoped>\n",
       "    .dataframe tbody tr th:only-of-type {\n",
       "        vertical-align: middle;\n",
       "    }\n",
       "\n",
       "    .dataframe tbody tr th {\n",
       "        vertical-align: top;\n",
       "    }\n",
       "\n",
       "    .dataframe thead th {\n",
       "        text-align: right;\n",
       "    }\n",
       "</style>\n",
       "<table border=\"1\" class=\"dataframe\">\n",
       "  <thead>\n",
       "    <tr style=\"text-align: right;\">\n",
       "      <th></th>\n",
       "      <th></th>\n",
       "      <th>Count</th>\n",
       "    </tr>\n",
       "    <tr>\n",
       "      <th>Campus</th>\n",
       "      <th>Section</th>\n",
       "      <th></th>\n",
       "    </tr>\n",
       "  </thead>\n",
       "  <tbody>\n",
       "    <tr>\n",
       "      <th>KSK</th>\n",
       "      <th>A</th>\n",
       "      <td>2</td>\n",
       "    </tr>\n",
       "    <tr>\n",
       "      <th rowspan=\"2\" valign=\"top\">LHR</th>\n",
       "      <th>A</th>\n",
       "      <td>1</td>\n",
       "    </tr>\n",
       "    <tr>\n",
       "      <th>C</th>\n",
       "      <td>4</td>\n",
       "    </tr>\n",
       "    <tr>\n",
       "      <th rowspan=\"2\" valign=\"top\">NWL</th>\n",
       "      <th>A</th>\n",
       "      <td>1</td>\n",
       "    </tr>\n",
       "    <tr>\n",
       "      <th>C</th>\n",
       "      <td>2</td>\n",
       "    </tr>\n",
       "  </tbody>\n",
       "</table>\n",
       "</div>"
      ],
      "text/plain": [
       "                Count\n",
       "Campus Section       \n",
       "KSK    A            2\n",
       "LHR    A            1\n",
       "       C            4\n",
       "NWL    A            1\n",
       "       C            2"
      ]
     },
     "execution_count": 358,
     "metadata": {},
     "output_type": "execute_result"
    }
   ],
   "source": [
    "# convert to dataframe"
   ]
  },
  {
   "cell_type": "code",
   "execution_count": 359,
   "metadata": {},
   "outputs": [
    {
     "data": {
      "text/html": [
       "<div>\n",
       "<style scoped>\n",
       "    .dataframe tbody tr th:only-of-type {\n",
       "        vertical-align: middle;\n",
       "    }\n",
       "\n",
       "    .dataframe tbody tr th {\n",
       "        vertical-align: top;\n",
       "    }\n",
       "\n",
       "    .dataframe thead th {\n",
       "        text-align: right;\n",
       "    }\n",
       "</style>\n",
       "<table border=\"1\" class=\"dataframe\">\n",
       "  <thead>\n",
       "    <tr style=\"text-align: right;\">\n",
       "      <th></th>\n",
       "      <th>Names</th>\n",
       "      <th>Campus</th>\n",
       "      <th>Section</th>\n",
       "      <th>Physics Marks</th>\n",
       "      <th>Math Marks</th>\n",
       "      <th>Time Stamp</th>\n",
       "      <th>cmp-sec</th>\n",
       "    </tr>\n",
       "  </thead>\n",
       "  <tbody>\n",
       "    <tr>\n",
       "      <th>0</th>\n",
       "      <td>John</td>\n",
       "      <td>LHR</td>\n",
       "      <td>C</td>\n",
       "      <td>15.0</td>\n",
       "      <td>75.0</td>\n",
       "      <td>2022-01-27 13:01:57.117048125+00:00</td>\n",
       "      <td>LHR-C</td>\n",
       "    </tr>\n",
       "    <tr>\n",
       "      <th>1</th>\n",
       "      <td>Jones</td>\n",
       "      <td>LHR</td>\n",
       "      <td>C</td>\n",
       "      <td>25.0</td>\n",
       "      <td>NaN</td>\n",
       "      <td>2022-01-27 13:01:58.044469+00:00</td>\n",
       "      <td>LHR-C</td>\n",
       "    </tr>\n",
       "    <tr>\n",
       "      <th>2</th>\n",
       "      <td>Paul</td>\n",
       "      <td>LHR</td>\n",
       "      <td>C</td>\n",
       "      <td>12.0</td>\n",
       "      <td>43.0</td>\n",
       "      <td>2022-01-27 13:01:59.569228375+00:00</td>\n",
       "      <td>LHR-C</td>\n",
       "    </tr>\n",
       "    <tr>\n",
       "      <th>3</th>\n",
       "      <td>linda</td>\n",
       "      <td>LHR</td>\n",
       "      <td>A</td>\n",
       "      <td>13.0</td>\n",
       "      <td>35.0</td>\n",
       "      <td>2022-01-27 13:02:02.231623500+00:00</td>\n",
       "      <td>LHR-A</td>\n",
       "    </tr>\n",
       "    <tr>\n",
       "      <th>4</th>\n",
       "      <td>Jimmy</td>\n",
       "      <td>KSK</td>\n",
       "      <td>A</td>\n",
       "      <td>50.0</td>\n",
       "      <td>8.0</td>\n",
       "      <td>2022-01-27 13:02:02.348720625+00:00</td>\n",
       "      <td>KSK-A</td>\n",
       "    </tr>\n",
       "    <tr>\n",
       "      <th>5</th>\n",
       "      <td>Carl</td>\n",
       "      <td>KSK</td>\n",
       "      <td>A</td>\n",
       "      <td>NaN</td>\n",
       "      <td>12.0</td>\n",
       "      <td>2022-01-27 13:02:06.877348750+00:00</td>\n",
       "      <td>KSK-A</td>\n",
       "    </tr>\n",
       "    <tr>\n",
       "      <th>6</th>\n",
       "      <td>Hope</td>\n",
       "      <td>NWL</td>\n",
       "      <td>C</td>\n",
       "      <td>40.0</td>\n",
       "      <td>NaN</td>\n",
       "      <td>2022-01-27 13:02:07.379538250+00:00</td>\n",
       "      <td>NWL-C</td>\n",
       "    </tr>\n",
       "    <tr>\n",
       "      <th>7</th>\n",
       "      <td>Cooper</td>\n",
       "      <td>NWL</td>\n",
       "      <td>A</td>\n",
       "      <td>20.0</td>\n",
       "      <td>24.0</td>\n",
       "      <td>2022-01-27 13:02:08.087371750+00:00</td>\n",
       "      <td>NWL-A</td>\n",
       "    </tr>\n",
       "    <tr>\n",
       "      <th>8</th>\n",
       "      <td>Daniel</td>\n",
       "      <td>NWL</td>\n",
       "      <td>C</td>\n",
       "      <td>55.0</td>\n",
       "      <td>25.0</td>\n",
       "      <td>2022-01-27 13:02:08.614640250+00:00</td>\n",
       "      <td>NWL-C</td>\n",
       "    </tr>\n",
       "    <tr>\n",
       "      <th>9</th>\n",
       "      <td>Lee</td>\n",
       "      <td>LHR</td>\n",
       "      <td>C</td>\n",
       "      <td>35.0</td>\n",
       "      <td>30.0</td>\n",
       "      <td>2022-01-27 13:02:08.840183500+00:00</td>\n",
       "      <td>LHR-C</td>\n",
       "    </tr>\n",
       "  </tbody>\n",
       "</table>\n",
       "</div>"
      ],
      "text/plain": [
       "    Names Campus Section  Physics Marks  Math Marks  \\\n",
       "0    John    LHR       C           15.0        75.0   \n",
       "1   Jones    LHR       C           25.0         NaN   \n",
       "2    Paul    LHR       C           12.0        43.0   \n",
       "3   linda    LHR       A           13.0        35.0   \n",
       "4   Jimmy    KSK       A           50.0         8.0   \n",
       "5    Carl    KSK       A            NaN        12.0   \n",
       "6    Hope    NWL       C           40.0         NaN   \n",
       "7  Cooper    NWL       A           20.0        24.0   \n",
       "8  Daniel    NWL       C           55.0        25.0   \n",
       "9     Lee    LHR       C           35.0        30.0   \n",
       "\n",
       "                           Time Stamp cmp-sec  \n",
       "0 2022-01-27 13:01:57.117048125+00:00   LHR-C  \n",
       "1    2022-01-27 13:01:58.044469+00:00   LHR-C  \n",
       "2 2022-01-27 13:01:59.569228375+00:00   LHR-C  \n",
       "3 2022-01-27 13:02:02.231623500+00:00   LHR-A  \n",
       "4 2022-01-27 13:02:02.348720625+00:00   KSK-A  \n",
       "5 2022-01-27 13:02:06.877348750+00:00   KSK-A  \n",
       "6 2022-01-27 13:02:07.379538250+00:00   NWL-C  \n",
       "7 2022-01-27 13:02:08.087371750+00:00   NWL-A  \n",
       "8 2022-01-27 13:02:08.614640250+00:00   NWL-C  \n",
       "9 2022-01-27 13:02:08.840183500+00:00   LHR-C  "
      ]
     },
     "execution_count": 359,
     "metadata": {},
     "output_type": "execute_result"
    }
   ],
   "source": [
    "# convert 'Time Stamp' column to a format recognized by Pandas"
   ]
  },
  {
   "cell_type": "code",
   "execution_count": 360,
   "metadata": {},
   "outputs": [
    {
     "data": {
      "text/html": [
       "<div>\n",
       "<style scoped>\n",
       "    .dataframe tbody tr th:only-of-type {\n",
       "        vertical-align: middle;\n",
       "    }\n",
       "\n",
       "    .dataframe tbody tr th {\n",
       "        vertical-align: top;\n",
       "    }\n",
       "\n",
       "    .dataframe thead th {\n",
       "        text-align: right;\n",
       "    }\n",
       "</style>\n",
       "<table border=\"1\" class=\"dataframe\">\n",
       "  <thead>\n",
       "    <tr style=\"text-align: right;\">\n",
       "      <th></th>\n",
       "      <th>Names</th>\n",
       "      <th>Campus</th>\n",
       "      <th>Section</th>\n",
       "      <th>Physics Marks</th>\n",
       "      <th>Math Marks</th>\n",
       "      <th>cmp-sec</th>\n",
       "    </tr>\n",
       "    <tr>\n",
       "      <th>Time Stamp</th>\n",
       "      <th></th>\n",
       "      <th></th>\n",
       "      <th></th>\n",
       "      <th></th>\n",
       "      <th></th>\n",
       "      <th></th>\n",
       "    </tr>\n",
       "  </thead>\n",
       "  <tbody>\n",
       "    <tr>\n",
       "      <th>2022-01-27 13:01:57.117048125+00:00</th>\n",
       "      <td>John</td>\n",
       "      <td>LHR</td>\n",
       "      <td>C</td>\n",
       "      <td>15.0</td>\n",
       "      <td>75.0</td>\n",
       "      <td>LHR-C</td>\n",
       "    </tr>\n",
       "    <tr>\n",
       "      <th>2022-01-27 13:01:58.044469+00:00</th>\n",
       "      <td>Jones</td>\n",
       "      <td>LHR</td>\n",
       "      <td>C</td>\n",
       "      <td>25.0</td>\n",
       "      <td>NaN</td>\n",
       "      <td>LHR-C</td>\n",
       "    </tr>\n",
       "    <tr>\n",
       "      <th>2022-01-27 13:01:59.569228375+00:00</th>\n",
       "      <td>Paul</td>\n",
       "      <td>LHR</td>\n",
       "      <td>C</td>\n",
       "      <td>12.0</td>\n",
       "      <td>43.0</td>\n",
       "      <td>LHR-C</td>\n",
       "    </tr>\n",
       "    <tr>\n",
       "      <th>2022-01-27 13:02:02.231623500+00:00</th>\n",
       "      <td>linda</td>\n",
       "      <td>LHR</td>\n",
       "      <td>A</td>\n",
       "      <td>13.0</td>\n",
       "      <td>35.0</td>\n",
       "      <td>LHR-A</td>\n",
       "    </tr>\n",
       "    <tr>\n",
       "      <th>2022-01-27 13:02:02.348720625+00:00</th>\n",
       "      <td>Jimmy</td>\n",
       "      <td>KSK</td>\n",
       "      <td>A</td>\n",
       "      <td>50.0</td>\n",
       "      <td>8.0</td>\n",
       "      <td>KSK-A</td>\n",
       "    </tr>\n",
       "    <tr>\n",
       "      <th>2022-01-27 13:02:06.877348750+00:00</th>\n",
       "      <td>Carl</td>\n",
       "      <td>KSK</td>\n",
       "      <td>A</td>\n",
       "      <td>NaN</td>\n",
       "      <td>12.0</td>\n",
       "      <td>KSK-A</td>\n",
       "    </tr>\n",
       "    <tr>\n",
       "      <th>2022-01-27 13:02:07.379538250+00:00</th>\n",
       "      <td>Hope</td>\n",
       "      <td>NWL</td>\n",
       "      <td>C</td>\n",
       "      <td>40.0</td>\n",
       "      <td>NaN</td>\n",
       "      <td>NWL-C</td>\n",
       "    </tr>\n",
       "    <tr>\n",
       "      <th>2022-01-27 13:02:08.087371750+00:00</th>\n",
       "      <td>Cooper</td>\n",
       "      <td>NWL</td>\n",
       "      <td>A</td>\n",
       "      <td>20.0</td>\n",
       "      <td>24.0</td>\n",
       "      <td>NWL-A</td>\n",
       "    </tr>\n",
       "    <tr>\n",
       "      <th>2022-01-27 13:02:08.614640250+00:00</th>\n",
       "      <td>Daniel</td>\n",
       "      <td>NWL</td>\n",
       "      <td>C</td>\n",
       "      <td>55.0</td>\n",
       "      <td>25.0</td>\n",
       "      <td>NWL-C</td>\n",
       "    </tr>\n",
       "    <tr>\n",
       "      <th>2022-01-27 13:02:08.840183500+00:00</th>\n",
       "      <td>Lee</td>\n",
       "      <td>LHR</td>\n",
       "      <td>C</td>\n",
       "      <td>35.0</td>\n",
       "      <td>30.0</td>\n",
       "      <td>LHR-C</td>\n",
       "    </tr>\n",
       "  </tbody>\n",
       "</table>\n",
       "</div>"
      ],
      "text/plain": [
       "                                      Names Campus Section  Physics Marks  \\\n",
       "Time Stamp                                                                  \n",
       "2022-01-27 13:01:57.117048125+00:00    John    LHR       C           15.0   \n",
       "2022-01-27 13:01:58.044469+00:00      Jones    LHR       C           25.0   \n",
       "2022-01-27 13:01:59.569228375+00:00    Paul    LHR       C           12.0   \n",
       "2022-01-27 13:02:02.231623500+00:00   linda    LHR       A           13.0   \n",
       "2022-01-27 13:02:02.348720625+00:00   Jimmy    KSK       A           50.0   \n",
       "2022-01-27 13:02:06.877348750+00:00    Carl    KSK       A            NaN   \n",
       "2022-01-27 13:02:07.379538250+00:00    Hope    NWL       C           40.0   \n",
       "2022-01-27 13:02:08.087371750+00:00  Cooper    NWL       A           20.0   \n",
       "2022-01-27 13:02:08.614640250+00:00  Daniel    NWL       C           55.0   \n",
       "2022-01-27 13:02:08.840183500+00:00     Lee    LHR       C           35.0   \n",
       "\n",
       "                                     Math Marks cmp-sec  \n",
       "Time Stamp                                               \n",
       "2022-01-27 13:01:57.117048125+00:00        75.0   LHR-C  \n",
       "2022-01-27 13:01:58.044469+00:00            NaN   LHR-C  \n",
       "2022-01-27 13:01:59.569228375+00:00        43.0   LHR-C  \n",
       "2022-01-27 13:02:02.231623500+00:00        35.0   LHR-A  \n",
       "2022-01-27 13:02:02.348720625+00:00         8.0   KSK-A  \n",
       "2022-01-27 13:02:06.877348750+00:00        12.0   KSK-A  \n",
       "2022-01-27 13:02:07.379538250+00:00         NaN   NWL-C  \n",
       "2022-01-27 13:02:08.087371750+00:00        24.0   NWL-A  \n",
       "2022-01-27 13:02:08.614640250+00:00        25.0   NWL-C  \n",
       "2022-01-27 13:02:08.840183500+00:00        30.0   LHR-C  "
      ]
     },
     "execution_count": 360,
     "metadata": {},
     "output_type": "execute_result"
    }
   ],
   "source": [
    "#set the 'Time Stamp' column as the index column"
   ]
  },
  {
   "cell_type": "code",
   "execution_count": 364,
   "metadata": {},
   "outputs": [
    {
     "data": {
      "text/html": [
       "<div>\n",
       "<style scoped>\n",
       "    .dataframe tbody tr th:only-of-type {\n",
       "        vertical-align: middle;\n",
       "    }\n",
       "\n",
       "    .dataframe tbody tr th {\n",
       "        vertical-align: top;\n",
       "    }\n",
       "\n",
       "    .dataframe thead th {\n",
       "        text-align: right;\n",
       "    }\n",
       "</style>\n",
       "<table border=\"1\" class=\"dataframe\">\n",
       "  <thead>\n",
       "    <tr style=\"text-align: right;\">\n",
       "      <th></th>\n",
       "      <th></th>\n",
       "      <th>Count</th>\n",
       "    </tr>\n",
       "    <tr>\n",
       "      <th>Time Stamp</th>\n",
       "      <th>cmp-sec</th>\n",
       "      <th></th>\n",
       "    </tr>\n",
       "  </thead>\n",
       "  <tbody>\n",
       "    <tr>\n",
       "      <th>2022-01-27 13:01:56+00:00</th>\n",
       "      <th>LHR-C</th>\n",
       "      <td>1</td>\n",
       "    </tr>\n",
       "    <tr>\n",
       "      <th>2022-01-27 13:01:58+00:00</th>\n",
       "      <th>LHR-C</th>\n",
       "      <td>2</td>\n",
       "    </tr>\n",
       "    <tr>\n",
       "      <th rowspan=\"2\" valign=\"top\">2022-01-27 13:02:02+00:00</th>\n",
       "      <th>KSK-A</th>\n",
       "      <td>1</td>\n",
       "    </tr>\n",
       "    <tr>\n",
       "      <th>LHR-A</th>\n",
       "      <td>1</td>\n",
       "    </tr>\n",
       "    <tr>\n",
       "      <th rowspan=\"2\" valign=\"top\">2022-01-27 13:02:06+00:00</th>\n",
       "      <th>KSK-A</th>\n",
       "      <td>0</td>\n",
       "    </tr>\n",
       "    <tr>\n",
       "      <th>NWL-C</th>\n",
       "      <td>1</td>\n",
       "    </tr>\n",
       "    <tr>\n",
       "      <th rowspan=\"3\" valign=\"top\">2022-01-27 13:02:08+00:00</th>\n",
       "      <th>LHR-C</th>\n",
       "      <td>1</td>\n",
       "    </tr>\n",
       "    <tr>\n",
       "      <th>NWL-A</th>\n",
       "      <td>1</td>\n",
       "    </tr>\n",
       "    <tr>\n",
       "      <th>NWL-C</th>\n",
       "      <td>1</td>\n",
       "    </tr>\n",
       "  </tbody>\n",
       "</table>\n",
       "</div>"
      ],
      "text/plain": [
       "                                   Count\n",
       "Time Stamp                cmp-sec       \n",
       "2022-01-27 13:01:56+00:00 LHR-C        1\n",
       "2022-01-27 13:01:58+00:00 LHR-C        2\n",
       "2022-01-27 13:02:02+00:00 KSK-A        1\n",
       "                          LHR-A        1\n",
       "2022-01-27 13:02:06+00:00 KSK-A        0\n",
       "                          NWL-C        1\n",
       "2022-01-27 13:02:08+00:00 LHR-C        1\n",
       "                          NWL-A        1\n",
       "                          NWL-C        1"
      ]
     },
     "execution_count": 364,
     "metadata": {},
     "output_type": "execute_result"
    }
   ],
   "source": [
    "#Count no. of items of cmp-sec column in a specific time interval"
   ]
  },
  {
   "cell_type": "code",
   "execution_count": 334,
   "metadata": {},
   "outputs": [
    {
     "ename": "KeyError",
     "evalue": "'cmp-sec'",
     "output_type": "error",
     "traceback": [
      "\u001b[1;31m---------------------------------------------------------------------------\u001b[0m",
      "\u001b[1;31mKeyError\u001b[0m                                  Traceback (most recent call last)",
      "\u001b[1;32mE:\\anaconda\\lib\\site-packages\\pandas\\core\\indexes\\base.py\u001b[0m in \u001b[0;36mget_loc\u001b[1;34m(self, key, method, tolerance)\u001b[0m\n\u001b[0;32m   2645\u001b[0m             \u001b[1;32mtry\u001b[0m\u001b[1;33m:\u001b[0m\u001b[1;33m\u001b[0m\u001b[1;33m\u001b[0m\u001b[0m\n\u001b[1;32m-> 2646\u001b[1;33m                 \u001b[1;32mreturn\u001b[0m \u001b[0mself\u001b[0m\u001b[1;33m.\u001b[0m\u001b[0m_engine\u001b[0m\u001b[1;33m.\u001b[0m\u001b[0mget_loc\u001b[0m\u001b[1;33m(\u001b[0m\u001b[0mkey\u001b[0m\u001b[1;33m)\u001b[0m\u001b[1;33m\u001b[0m\u001b[1;33m\u001b[0m\u001b[0m\n\u001b[0m\u001b[0;32m   2647\u001b[0m             \u001b[1;32mexcept\u001b[0m \u001b[0mKeyError\u001b[0m\u001b[1;33m:\u001b[0m\u001b[1;33m\u001b[0m\u001b[1;33m\u001b[0m\u001b[0m\n",
      "\u001b[1;32mpandas\\_libs\\index.pyx\u001b[0m in \u001b[0;36mpandas._libs.index.IndexEngine.get_loc\u001b[1;34m()\u001b[0m\n",
      "\u001b[1;32mpandas\\_libs\\index.pyx\u001b[0m in \u001b[0;36mpandas._libs.index.IndexEngine.get_loc\u001b[1;34m()\u001b[0m\n",
      "\u001b[1;32mpandas\\_libs\\hashtable_class_helper.pxi\u001b[0m in \u001b[0;36mpandas._libs.hashtable.PyObjectHashTable.get_item\u001b[1;34m()\u001b[0m\n",
      "\u001b[1;32mpandas\\_libs\\hashtable_class_helper.pxi\u001b[0m in \u001b[0;36mpandas._libs.hashtable.PyObjectHashTable.get_item\u001b[1;34m()\u001b[0m\n",
      "\u001b[1;31mKeyError\u001b[0m: 'cmp-sec'",
      "\nDuring handling of the above exception, another exception occurred:\n",
      "\u001b[1;31mKeyError\u001b[0m                                  Traceback (most recent call last)",
      "\u001b[1;32m<ipython-input-334-d5f71bbc9a11>\u001b[0m in \u001b[0;36m<module>\u001b[1;34m\u001b[0m\n\u001b[1;32m----> 1\u001b[1;33m \u001b[0mt_10s\u001b[0m\u001b[1;33m[\u001b[0m\u001b[1;34m'cmp-sec'\u001b[0m\u001b[1;33m]\u001b[0m\u001b[1;33m\u001b[0m\u001b[1;33m\u001b[0m\u001b[0m\n\u001b[0m",
      "\u001b[1;32mE:\\anaconda\\lib\\site-packages\\pandas\\core\\frame.py\u001b[0m in \u001b[0;36m__getitem__\u001b[1;34m(self, key)\u001b[0m\n\u001b[0;32m   2798\u001b[0m             \u001b[1;32mif\u001b[0m \u001b[0mself\u001b[0m\u001b[1;33m.\u001b[0m\u001b[0mcolumns\u001b[0m\u001b[1;33m.\u001b[0m\u001b[0mnlevels\u001b[0m \u001b[1;33m>\u001b[0m \u001b[1;36m1\u001b[0m\u001b[1;33m:\u001b[0m\u001b[1;33m\u001b[0m\u001b[1;33m\u001b[0m\u001b[0m\n\u001b[0;32m   2799\u001b[0m                 \u001b[1;32mreturn\u001b[0m \u001b[0mself\u001b[0m\u001b[1;33m.\u001b[0m\u001b[0m_getitem_multilevel\u001b[0m\u001b[1;33m(\u001b[0m\u001b[0mkey\u001b[0m\u001b[1;33m)\u001b[0m\u001b[1;33m\u001b[0m\u001b[1;33m\u001b[0m\u001b[0m\n\u001b[1;32m-> 2800\u001b[1;33m             \u001b[0mindexer\u001b[0m \u001b[1;33m=\u001b[0m \u001b[0mself\u001b[0m\u001b[1;33m.\u001b[0m\u001b[0mcolumns\u001b[0m\u001b[1;33m.\u001b[0m\u001b[0mget_loc\u001b[0m\u001b[1;33m(\u001b[0m\u001b[0mkey\u001b[0m\u001b[1;33m)\u001b[0m\u001b[1;33m\u001b[0m\u001b[1;33m\u001b[0m\u001b[0m\n\u001b[0m\u001b[0;32m   2801\u001b[0m             \u001b[1;32mif\u001b[0m \u001b[0mis_integer\u001b[0m\u001b[1;33m(\u001b[0m\u001b[0mindexer\u001b[0m\u001b[1;33m)\u001b[0m\u001b[1;33m:\u001b[0m\u001b[1;33m\u001b[0m\u001b[1;33m\u001b[0m\u001b[0m\n\u001b[0;32m   2802\u001b[0m                 \u001b[0mindexer\u001b[0m \u001b[1;33m=\u001b[0m \u001b[1;33m[\u001b[0m\u001b[0mindexer\u001b[0m\u001b[1;33m]\u001b[0m\u001b[1;33m\u001b[0m\u001b[1;33m\u001b[0m\u001b[0m\n",
      "\u001b[1;32mE:\\anaconda\\lib\\site-packages\\pandas\\core\\indexes\\base.py\u001b[0m in \u001b[0;36mget_loc\u001b[1;34m(self, key, method, tolerance)\u001b[0m\n\u001b[0;32m   2646\u001b[0m                 \u001b[1;32mreturn\u001b[0m \u001b[0mself\u001b[0m\u001b[1;33m.\u001b[0m\u001b[0m_engine\u001b[0m\u001b[1;33m.\u001b[0m\u001b[0mget_loc\u001b[0m\u001b[1;33m(\u001b[0m\u001b[0mkey\u001b[0m\u001b[1;33m)\u001b[0m\u001b[1;33m\u001b[0m\u001b[1;33m\u001b[0m\u001b[0m\n\u001b[0;32m   2647\u001b[0m             \u001b[1;32mexcept\u001b[0m \u001b[0mKeyError\u001b[0m\u001b[1;33m:\u001b[0m\u001b[1;33m\u001b[0m\u001b[1;33m\u001b[0m\u001b[0m\n\u001b[1;32m-> 2648\u001b[1;33m                 \u001b[1;32mreturn\u001b[0m \u001b[0mself\u001b[0m\u001b[1;33m.\u001b[0m\u001b[0m_engine\u001b[0m\u001b[1;33m.\u001b[0m\u001b[0mget_loc\u001b[0m\u001b[1;33m(\u001b[0m\u001b[0mself\u001b[0m\u001b[1;33m.\u001b[0m\u001b[0m_maybe_cast_indexer\u001b[0m\u001b[1;33m(\u001b[0m\u001b[0mkey\u001b[0m\u001b[1;33m)\u001b[0m\u001b[1;33m)\u001b[0m\u001b[1;33m\u001b[0m\u001b[1;33m\u001b[0m\u001b[0m\n\u001b[0m\u001b[0;32m   2649\u001b[0m         \u001b[0mindexer\u001b[0m \u001b[1;33m=\u001b[0m \u001b[0mself\u001b[0m\u001b[1;33m.\u001b[0m\u001b[0mget_indexer\u001b[0m\u001b[1;33m(\u001b[0m\u001b[1;33m[\u001b[0m\u001b[0mkey\u001b[0m\u001b[1;33m]\u001b[0m\u001b[1;33m,\u001b[0m \u001b[0mmethod\u001b[0m\u001b[1;33m=\u001b[0m\u001b[0mmethod\u001b[0m\u001b[1;33m,\u001b[0m \u001b[0mtolerance\u001b[0m\u001b[1;33m=\u001b[0m\u001b[0mtolerance\u001b[0m\u001b[1;33m)\u001b[0m\u001b[1;33m\u001b[0m\u001b[1;33m\u001b[0m\u001b[0m\n\u001b[0;32m   2650\u001b[0m         \u001b[1;32mif\u001b[0m \u001b[0mindexer\u001b[0m\u001b[1;33m.\u001b[0m\u001b[0mndim\u001b[0m \u001b[1;33m>\u001b[0m \u001b[1;36m1\u001b[0m \u001b[1;32mor\u001b[0m \u001b[0mindexer\u001b[0m\u001b[1;33m.\u001b[0m\u001b[0msize\u001b[0m \u001b[1;33m>\u001b[0m \u001b[1;36m1\u001b[0m\u001b[1;33m:\u001b[0m\u001b[1;33m\u001b[0m\u001b[1;33m\u001b[0m\u001b[0m\n",
      "\u001b[1;32mpandas\\_libs\\index.pyx\u001b[0m in \u001b[0;36mpandas._libs.index.IndexEngine.get_loc\u001b[1;34m()\u001b[0m\n",
      "\u001b[1;32mpandas\\_libs\\index.pyx\u001b[0m in \u001b[0;36mpandas._libs.index.IndexEngine.get_loc\u001b[1;34m()\u001b[0m\n",
      "\u001b[1;32mpandas\\_libs\\hashtable_class_helper.pxi\u001b[0m in \u001b[0;36mpandas._libs.hashtable.PyObjectHashTable.get_item\u001b[1;34m()\u001b[0m\n",
      "\u001b[1;32mpandas\\_libs\\hashtable_class_helper.pxi\u001b[0m in \u001b[0;36mpandas._libs.hashtable.PyObjectHashTable.get_item\u001b[1;34m()\u001b[0m\n",
      "\u001b[1;31mKeyError\u001b[0m: 'cmp-sec'"
     ]
    }
   ],
   "source": [
    "t_10s['cmp-sec']"
   ]
  },
  {
   "cell_type": "code",
   "execution_count": 335,
   "metadata": {},
   "outputs": [
    {
     "data": {
      "text/html": [
       "<div>\n",
       "<style scoped>\n",
       "    .dataframe tbody tr th:only-of-type {\n",
       "        vertical-align: middle;\n",
       "    }\n",
       "\n",
       "    .dataframe tbody tr th {\n",
       "        vertical-align: top;\n",
       "    }\n",
       "\n",
       "    .dataframe thead th {\n",
       "        text-align: right;\n",
       "    }\n",
       "</style>\n",
       "<table border=\"1\" class=\"dataframe\">\n",
       "  <thead>\n",
       "    <tr style=\"text-align: right;\">\n",
       "      <th></th>\n",
       "      <th>Time Stamp</th>\n",
       "      <th>cmp-sec</th>\n",
       "      <th>Count</th>\n",
       "    </tr>\n",
       "  </thead>\n",
       "  <tbody>\n",
       "    <tr>\n",
       "      <th>0</th>\n",
       "      <td>2022-01-27 13:00:00+00:00</td>\n",
       "      <td>Lhr-A</td>\n",
       "      <td>1</td>\n",
       "    </tr>\n",
       "    <tr>\n",
       "      <th>1</th>\n",
       "      <td>2022-01-27 13:00:00+00:00</td>\n",
       "      <td>Lhr-C</td>\n",
       "      <td>1</td>\n",
       "    </tr>\n",
       "    <tr>\n",
       "      <th>2</th>\n",
       "      <td>2022-01-27 13:00:00+00:00</td>\n",
       "      <td>Nwl-C</td>\n",
       "      <td>1</td>\n",
       "    </tr>\n",
       "    <tr>\n",
       "      <th>3</th>\n",
       "      <td>2022-01-27 13:02:00+00:00</td>\n",
       "      <td>KSK-A</td>\n",
       "      <td>1</td>\n",
       "    </tr>\n",
       "    <tr>\n",
       "      <th>4</th>\n",
       "      <td>2022-01-27 13:02:00+00:00</td>\n",
       "      <td>Lhr-A</td>\n",
       "      <td>1</td>\n",
       "    </tr>\n",
       "    <tr>\n",
       "      <th>5</th>\n",
       "      <td>2022-01-27 13:02:00+00:00</td>\n",
       "      <td>Nwl-A</td>\n",
       "      <td>1</td>\n",
       "    </tr>\n",
       "    <tr>\n",
       "      <th>6</th>\n",
       "      <td>2022-01-27 13:02:00+00:00</td>\n",
       "      <td>Nwl-C</td>\n",
       "      <td>2</td>\n",
       "    </tr>\n",
       "    <tr>\n",
       "      <th>7</th>\n",
       "      <td>2022-01-27 13:02:00+00:00</td>\n",
       "      <td>RCET-C</td>\n",
       "      <td>1</td>\n",
       "    </tr>\n",
       "  </tbody>\n",
       "</table>\n",
       "</div>"
      ],
      "text/plain": [
       "                 Time Stamp cmp-sec  Count\n",
       "0 2022-01-27 13:00:00+00:00   Lhr-A      1\n",
       "1 2022-01-27 13:00:00+00:00   Lhr-C      1\n",
       "2 2022-01-27 13:00:00+00:00   Nwl-C      1\n",
       "3 2022-01-27 13:02:00+00:00   KSK-A      1\n",
       "4 2022-01-27 13:02:00+00:00   Lhr-A      1\n",
       "5 2022-01-27 13:02:00+00:00   Nwl-A      1\n",
       "6 2022-01-27 13:02:00+00:00   Nwl-C      2\n",
       "7 2022-01-27 13:02:00+00:00  RCET-C      1"
      ]
     },
     "execution_count": 335,
     "metadata": {},
     "output_type": "execute_result"
    }
   ],
   "source": [
    "t_10s = t_10s.reset_index()\n",
    "t_10s"
   ]
  },
  {
   "cell_type": "code",
   "execution_count": 336,
   "metadata": {},
   "outputs": [
    {
     "data": {
      "text/plain": [
       "0     Lhr-A\n",
       "1     Lhr-C\n",
       "2     Nwl-C\n",
       "3     KSK-A\n",
       "4     Lhr-A\n",
       "5     Nwl-A\n",
       "6     Nwl-C\n",
       "7    RCET-C\n",
       "Name: cmp-sec, dtype: object"
      ]
     },
     "execution_count": 336,
     "metadata": {},
     "output_type": "execute_result"
    }
   ],
   "source": [
    "t_10s['cmp-sec']"
   ]
  },
  {
   "cell_type": "code",
   "execution_count": 3,
   "metadata": {},
   "outputs": [
    {
     "data": {
      "text/plain": [
       "<matplotlib.axes._subplots.AxesSubplot at 0x1af86ea7dc0>"
      ]
     },
     "execution_count": 3,
     "metadata": {},
     "output_type": "execute_result"
    },
    {
     "data": {
      "image/png": "[encoded data removed]",
      "text/plain": [
       "<Figure size 432x288 with 1 Axes>"
      ]
     },
     "metadata": {
      "needs_background": "light"
     },
     "output_type": "display_data"
    }
   ],
   "source": [
    "#bar plot of all the columns having numbers."
   ]
  },
  {
   "cell_type": "code",
   "execution_count": 5,
   "metadata": {},
   "outputs": [
    {
     "data": {
      "text/plain": [
       "<matplotlib.axes._subplots.AxesSubplot at 0x1af876eff10>"
      ]
     },
     "execution_count": 5,
     "metadata": {},
     "output_type": "execute_result"
    },
    {
     "data": {
      "image/png": "[encoded data removed]",
      "text/plain": [
       "<Figure size 432x288 with 1 Axes>"
      ]
     },
     "metadata": {
      "needs_background": "light"
     },
     "output_type": "display_data"
    }
   ],
   "source": [
    "#Customized plot with labels."
   ]
  }
 ],
 "metadata": {
  "kernelspec": {
   "display_name": "Python 3 (ipykernel)",
   "language": "python",
   "name": "python3"
  },
  "language_info": {
   "codemirror_mode": {
    "name": "ipython",
    "version": 3
   },
   "file_extension": ".py",
   "mimetype": "text/x-python",
   "name": "python",
   "nbconvert_exporter": "python",
   "pygments_lexer": "ipython3",
   "version": "3.9.9"
  }
 },
 "nbformat": 4,
 "nbformat_minor": 4
}
