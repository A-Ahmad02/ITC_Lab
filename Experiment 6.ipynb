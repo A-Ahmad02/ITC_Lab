{
 "cells": [
  {
   "cell_type": "markdown",
   "id": "5abae504",
   "metadata": {},
   "source": [
    "# Experiment "
   ]
  },
  {
   "cell_type": "markdown",
   "id": "e8286ed8",
   "metadata": {},
   "source": [
    "## Question 1"
   ]
  },
  {
   "cell_type": "code",
   "execution_count": 1,
   "id": "436cf75e",
   "metadata": {},
   "outputs": [
    {
     "name": "stdout",
     "output_type": "stream",
     "text": [
      "The sum is 3\n",
      "The difference is -1\n",
      "The product is 2\n",
      "The quotient is 0.5\n"
     ]
    }
   ],
   "source": [
    "def add():\n",
    "    x = 1\n",
    "    y = 2\n",
    "    print(\"The sum is\", x+y)\n",
    "    sub(x,y)\n",
    "    \n",
    "def sub(x,y):\n",
    "    print(\"The difference is\", x-y)\n",
    "     \n",
    "def mul(x,y):\n",
    "    return x*y\n",
    "\n",
    "def div():\n",
    "    x = 1\n",
    "    y = 2\n",
    "    return x/y\n",
    "\n",
    "add()\n",
    "print(\"The product is\", mul(1,2))\n",
    "print(\"The quotient is\", div())"
   ]
  },
  {
   "cell_type": "code",
   "execution_count": 1,
   "id": "b545cbe7",
   "metadata": {},
   "outputs": [
    {
     "name": "stdout",
     "output_type": "stream",
     "text": [
      "The sum is 3\n",
      "The difference is -1\n",
      "The product is 2\n",
      "The quotient is 0.5\n"
     ]
    }
   ],
   "source": [
    "def add():\n",
    "    x = 1\n",
    "    y = 2\n",
    "    print(\"The sum is\", x+y)\n",
    "    \n",
    "def sub(x,y):\n",
    "    print(\"The difference is\", x-y)\n",
    "     \n",
    "def mul(x,y):\n",
    "    return x*y\n",
    "\n",
    "def div():\n",
    "    x = 1\n",
    "    y = 2\n",
    "    return x/y\n",
    "\n",
    "add()\n",
    "sub(1,2)\n",
    "print(\"The product is\", mul(1,2))\n",
    "print(\"The quotient is\", div())"
   ]
  },
  {
   "cell_type": "markdown",
   "id": "bee65d87",
   "metadata": {},
   "source": [
    "## Question 2"
   ]
  },
  {
   "cell_type": "code",
   "execution_count": 2,
   "id": "c6240ac3",
   "metadata": {
    "scrolled": true
   },
   "outputs": [
    {
     "name": "stdout",
     "output_type": "stream",
     "text": [
      "Square\n",
      "***\n",
      "***\n",
      "***\n",
      "Rectangle\n",
      "****\n",
      "****\n",
      "****\n"
     ]
    }
   ],
   "source": [
    "def square():\n",
    "    x = 3 # No. of rows and columns\n",
    "    print(\"Square\")\n",
    "    for i in range(x):\n",
    "        print(\"*\"*x)\n",
    "        \n",
    "def rectangle():\n",
    "    x = 3 # No. of rows\n",
    "    y = 4 # No. of columns\n",
    "    print(\"Rectangle\")\n",
    "    for i in range(x): # Prints a row in each iteration\n",
    "        print(\"*\"*y)\n",
    "    \n",
    "square()\n",
    "rectangle()"
   ]
  },
  {
   "cell_type": "code",
   "execution_count": 3,
   "id": "63e9ce37",
   "metadata": {},
   "outputs": [
    {
     "name": "stdout",
     "output_type": "stream",
     "text": [
      "Square\n",
      "***\n",
      "***\n",
      "***\n",
      "Rectangle\n",
      "****\n",
      "****\n",
      "****\n"
     ]
    }
   ],
   "source": [
    "def square():\n",
    "    x = 3 # No. of rows and columns\n",
    "    print(\"Square\")\n",
    "    for i in range(x):\n",
    "        for j in range(x):\n",
    "            print(\"*\",end=\"\")\n",
    "        print()\n",
    "        \n",
    "def rectangle():\n",
    "    x = 3 # No. of rows\n",
    "    y = 4 # No. of columns\n",
    "    print(\"Rectangle\")\n",
    "    for i in range(x): # Prints a row in each iteration\n",
    "        for j in range(y):\n",
    "            print(\"*\",end=\"\")\n",
    "        print()\n",
    "    \n",
    "square()\n",
    "rectangle()"
   ]
  },
  {
   "cell_type": "code",
   "execution_count": 5,
   "id": "10e6290e",
   "metadata": {},
   "outputs": [
    {
     "name": "stdout",
     "output_type": "stream",
     "text": [
      "Square\n",
      "***\n",
      "***\n",
      "***\n",
      "Rectangle\n",
      "****\n",
      "****\n",
      "****\n"
     ]
    }
   ],
   "source": [
    "def square():\n",
    "    print(\"Square\")\n",
    "    print(\"***\\n***\\n***\")\n",
    "        \n",
    "def rectangle():\n",
    "    print(\"Rectangle\")\n",
    "    print(\"****\\n****\\n****\")\n",
    "    \n",
    "square()\n",
    "rectangle()"
   ]
  },
  {
   "cell_type": "markdown",
   "id": "6abdccd8",
   "metadata": {},
   "source": [
    "## Question 3"
   ]
  },
  {
   "cell_type": "code",
   "execution_count": 3,
   "id": "a425b184",
   "metadata": {},
   "outputs": [
    {
     "name": "stdout",
     "output_type": "stream",
     "text": [
      "Enter marks:20\n",
      "Grade is  A\n"
     ]
    }
   ],
   "source": [
    "def grade(x):\n",
    "    if x > 15:\n",
    "        return \"A\"\n",
    "    elif x <= 15 and x > 10:\n",
    "        return \"B\"\n",
    "    elif x <= 10 and x > 5:\n",
    "        return \"C\"\n",
    "    else:\n",
    "        return \"F\"\n",
    "\n",
    "marks = float(input(\"Enter marks:\"))\n",
    "print(\"Grade is \", grade(marks))"
   ]
  },
  {
   "cell_type": "markdown",
   "id": "0344599d",
   "metadata": {},
   "source": [
    "## Question 4"
   ]
  },
  {
   "cell_type": "code",
   "execution_count": 4,
   "id": "9a1e42fc",
   "metadata": {},
   "outputs": [
    {
     "name": "stdout",
     "output_type": "stream",
     "text": [
      "The sum of square is 129\n"
     ]
    }
   ],
   "source": [
    "def square(w):\n",
    "    return w**2\n",
    "    \n",
    "def sum_of_squares(x, y, z):\n",
    "    return square(x) + square(y) + square(z)\n",
    "    \n",
    "a = -5 \n",
    "b = 2\n",
    "c = 10\n",
    "\n",
    "print(\"The sum of square is\", sum_of_squares(a, b, c))"
   ]
  },
  {
   "cell_type": "code",
   "execution_count": 6,
   "id": "051a8b16",
   "metadata": {},
   "outputs": [
    {
     "name": "stdout",
     "output_type": "stream",
     "text": [
      "The sum of square is 129\n"
     ]
    }
   ],
   "source": [
    "def square(w):\n",
    "    return w**2\n",
    "    \n",
    "def sum_of_squares():\n",
    "    return square(a) + square(b) + square(c)\n",
    "    \n",
    "a = -5 \n",
    "b = 2\n",
    "c = 10\n",
    "\n",
    "print(\"The sum of square is\", sum_of_squares())"
   ]
  },
  {
   "cell_type": "markdown",
   "id": "99f97d79",
   "metadata": {},
   "source": [
    "## Question 5"
   ]
  },
  {
   "cell_type": "code",
   "execution_count": 5,
   "id": "47f2d942",
   "metadata": {
    "scrolled": true
   },
   "outputs": [
    {
     "name": "stdout",
     "output_type": "stream",
     "text": [
      "The sum is 21\n",
      "The difference is -19\n",
      "The product is 20\n",
      "The quotient is 0.05\n",
      "\n",
      "Square\n",
      "***\n",
      "***\n",
      "***\n",
      "\n",
      "Rectangle\n",
      "****\n",
      "****\n",
      "****\n",
      "\n"
     ]
    }
   ],
   "source": [
    "def calc(x,y):\n",
    "    def add(x,y):\n",
    "        return x+y\n",
    "\n",
    "    def sub(x,y):\n",
    "        return x-y\n",
    "\n",
    "    def mul(x,y):\n",
    "        return x*y\n",
    "\n",
    "    def div(x,y):\n",
    "        return x/y\n",
    "    \n",
    "    print(\"The sum is\", add(x,y))\n",
    "    print(\"The difference is\", sub(x,y))\n",
    "    print(\"The product is\", mul(x,y))\n",
    "    print(\"The quotient is\", div(x,y))\n",
    "    print()\n",
    "    \n",
    "def shape():\n",
    "    def square():\n",
    "        x = 3 # No. of rows and columns\n",
    "        print(\"Square\")\n",
    "        for i in range(x):\n",
    "            print(\"*\"*x)\n",
    "\n",
    "    def rectangle():\n",
    "        x = 3 # No. of rows\n",
    "        y = 4 # No. of columns\n",
    "        print(\"Rectangle\")\n",
    "        for i in range(x): # Prints a row\n",
    "            print(\"*\"*y)\n",
    "\n",
    "    square()\n",
    "    print()\n",
    "    rectangle()\n",
    "    print()\n",
    "\n",
    "a = 1\n",
    "b = 20\n",
    "calc(a,b)\n",
    "shape()"
   ]
  },
  {
   "cell_type": "code",
   "execution_count": 11,
   "id": "7a436b0b",
   "metadata": {
    "scrolled": true
   },
   "outputs": [
    {
     "name": "stdout",
     "output_type": "stream",
     "text": [
      "The sum is 21\n",
      "The difference is -19\n",
      "The product is 20\n",
      "The quotient is 0.05\n",
      "\n",
      "Square\n",
      "***\n",
      "***\n",
      "***\n",
      "\n",
      "Rectangle\n",
      "****\n",
      "****\n",
      "****\n"
     ]
    }
   ],
   "source": [
    "def calc(a,b):\n",
    "    def add(x,y):\n",
    "        print(\"The sum is\", x+y)\n",
    "\n",
    "    def sub(x,y):\n",
    "        print(\"The difference is\", x-y)\n",
    "\n",
    "    def mul(x,y):\n",
    "        return x*y\n",
    "\n",
    "    def div(x,y):\n",
    "        return x/y\n",
    "\n",
    "    add(a,b)\n",
    "    sub(a,b)\n",
    "    print(\"The product is\", mul(a,b))\n",
    "    print(\"The quotient is\", div(a,b))\n",
    "    print(\"\")\n",
    "    \n",
    "def shape():\n",
    "    def square():\n",
    "        print(\"Square\")\n",
    "        print(\"***\\n***\\n***\")\n",
    "\n",
    "    def rectangle():\n",
    "        print(\"Rectangle\")\n",
    "        print(\"****\\n****\\n****\")\n",
    "    \n",
    "    square()\n",
    "    print(\"\")\n",
    "    rectangle()\n",
    "\n",
    "a = 1\n",
    "b = 20\n",
    "calc(a,b)\n",
    "shape()"
   ]
  },
  {
   "cell_type": "markdown",
   "id": "44f669cf",
   "metadata": {},
   "source": [
    "## Question 6"
   ]
  },
  {
   "cell_type": "code",
   "execution_count": 6,
   "id": "5f56c44c",
   "metadata": {},
   "outputs": [
    {
     "name": "stdout",
     "output_type": "stream",
     "text": [
      "Enter: 3\n",
      "  *\n",
      " ***\n",
      "*****\n",
      "\n",
      "Enter: 4\n",
      "   *\n",
      "  ***\n",
      " *****\n",
      "*******\n",
      "\n",
      "Enter: 5\n",
      "    *\n",
      "   ***\n",
      "  *****\n",
      " *******\n",
      "*********\n",
      "\n",
      "Enter: stop\n"
     ]
    }
   ],
   "source": [
    "def pyr(nR):\n",
    "    for i in range(1,nR+1,1):\n",
    "        print(\" \"*(nR-i), end=\"\")\n",
    "        print(\"*\"*((2*i)-1))\n",
    "    print()\n",
    "        \n",
    "while True:\n",
    "    nRows = input(\"Enter: \")\n",
    "    if nRows == \"stop\":\n",
    "        break\n",
    "    else:\n",
    "        pyr(int(nRows))"
   ]
  },
  {
   "cell_type": "code",
   "execution_count": 14,
   "id": "f8757558",
   "metadata": {},
   "outputs": [
    {
     "name": "stdout",
     "output_type": "stream",
     "text": [
      "Enter: 2\n",
      " *\n",
      "***\n",
      "Enter: 3\n",
      "  *\n",
      " ***\n",
      "*****\n",
      "Enter: 4\n",
      "   *\n",
      "  ***\n",
      " *****\n",
      "*******\n",
      "Enter: stop\n"
     ]
    }
   ],
   "source": [
    "def pyr(nR):\n",
    "    for i in range(1,nR+1,1):\n",
    "        for j in range(0,(nR-i),1):\n",
    "            print(\" \", end=\"\")\n",
    "        for k in range(0,(2*i)-1,1):\n",
    "            print(\"*\", end=\"\")\n",
    "        print()\n",
    "        \n",
    "while True:\n",
    "    nRows = input(\"Enter: \")\n",
    "    if nRows == \"stop\":\n",
    "        break\n",
    "    else:\n",
    "        pyr(int(nRows))"
   ]
  },
  {
   "cell_type": "code",
   "execution_count": 18,
   "id": "05c2075d",
   "metadata": {},
   "outputs": [
    {
     "name": "stdout",
     "output_type": "stream",
     "text": [
      "Enter: stop\n"
     ]
    }
   ],
   "source": [
    "def pyr(nR):\n",
    "    for i in range(1,nR+1,1):\n",
    "        for j in range(0,(nR-i),1):\n",
    "            print(\" \", end=\"\")\n",
    "        for k in range(0,(2*i)-1,1):\n",
    "            print(\"*\", end=\"\")\n",
    "        print()\n",
    "        \n",
    "nRows = \"w\"      \n",
    "while nRows != \"stop\":\n",
    "    nRows = input(\"Enter: \")\n",
    "    if nRows == \"stop\":\n",
    "        break\n",
    "    pyr(int(nRows))"
   ]
  },
  {
   "cell_type": "markdown",
   "id": "c59aba3f",
   "metadata": {},
   "source": [
    "## Question 7\n",
    "\n",
    "### Method\n",
    "- Print function calls h()\n",
    "- In h(), z=1 parameter\n",
    "- h() calls f(), that calls g(), that calls f() and gives it the parameter w(=z+1)=2\n",
    "- f(2) returns (10*2) 20 to the g() function that called it\n",
    "- g(z,f(z+1)) is now g(1,20)\n",
    "- g(1,20) runs and calls f() giving it parameter (3*1) 3.\n",
    "- f(3) runs and returns (10*3) 30 to g() return statement\n",
    "- g(1,20) returns (30+20) 50 to the outer most f() in h() as its parameter\n",
    "- f(50) runs and returns (10*50) 500 to return statement of h()\n",
    "- h(1) returns 500 to print statement\n",
    "- 500 is printed\n",
    "\n",
    "\n",
    "### Calculations\n",
    "- 1 + 1 = 2\n",
    "    - 2 * 10 = 20\n",
    "- 3 * 1 = 3\n",
    "    - 3 * 10 = 30\n",
    "- 30 + 20 = 50\n",
    "- 50 * 10 = 500\n",
    "\n",
    "### Unwinding Call\n",
    "- f(g(1,f(2)))\n",
    "- f(g(1,20))\n",
    "- f(3)\n",
    "- f(50)"
   ]
  },
  {
   "cell_type": "code",
   "execution_count": null,
   "id": "f0257381",
   "metadata": {},
   "outputs": [],
   "source": []
  }
 ],
 "metadata": {
  "kernelspec": {
   "display_name": "Python 3 (ipykernel)",
   "language": "python",
   "name": "python3"
  },
  "language_info": {
   "codemirror_mode": {
    "name": "ipython",
    "version": 3
   },
   "file_extension": ".py",
   "mimetype": "text/x-python",
   "name": "python",
   "nbconvert_exporter": "python",
   "pygments_lexer": "ipython3",
   "version": "3.9.9"
  }
 },
 "nbformat": 4,
 "nbformat_minor": 5
}
